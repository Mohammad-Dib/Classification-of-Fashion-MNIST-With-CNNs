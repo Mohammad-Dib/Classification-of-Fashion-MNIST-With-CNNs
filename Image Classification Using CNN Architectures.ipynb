{
 "cells": [
  {
   "cell_type": "markdown",
   "metadata": {
    "id": "6-m_ku38VYzt"
   },
   "source": [
    "# Question 2: Classifcation - Convolutional Neural Networks (CNNs)"
   ]
  },
  {
   "cell_type": "markdown",
   "metadata": {
    "id": "f88rX0BtVYzv"
   },
   "source": [
    "## Overview:\n",
    "\n",
    "In this question we will be using CNNs to do the classification on Fashion-Mnist. We tried multiple CNN architectures including, VGG, inception, and Resnet. It is worth noting that first, we split our data into training, validation, and testing data sets to help us develop the best model. After finding the suitable hyper-parameteres, we combined the three sets, and we used the full training file (60,000 training samples) to train our model, to imporive the generalizability of our model."
   ]
  },
  {
   "cell_type": "markdown",
   "metadata": {
    "id": "TKc_vsfyVYzv"
   },
   "source": [
    "## 2.1: Design and Implementation Choices of your Model"
   ]
  },
  {
   "cell_type": "markdown",
   "metadata": {
    "id": "c5ldvT1oVYzw"
   },
   "source": [
    "### Importing the required libraries"
   ]
  },
  {
   "cell_type": "code",
   "execution_count": null,
   "metadata": {
    "id": "IU1palvTVYzx"
   },
   "outputs": [],
   "source": [
    "import numpy as np\n",
    "import pandas as pd\n",
    "import matplotlib.pyplot as plt\n",
    "%matplotlib inline\n",
    "\n",
    "from sklearn.model_selection import train_test_split\n",
    "from sklearn.preprocessing import StandardScaler\n",
    "\n",
    "#from tensorflow.keras import models\n",
    "from tensorflow.keras.models import Sequential, Model\n",
    "\n",
    "#from tensorflow.keras import layers\n",
    "from tensorflow.keras.layers import Dense, Dropout, Flatten, BatchNormalization, Input, Activation, Conv2D, MaxPooling2D \n",
    "from tensorflow.keras.layers import concatenate, AveragePooling2D, add\n",
    "\n",
    "from tensorflow.keras.utils import to_categorical\n",
    "\n",
    "from tensorflow.keras.optimizers import SGD, RMSprop, Adam\n",
    "\n",
    "from tensorflow.keras.regularizers import l2,l1\n",
    "\n",
    "from tensorflow.keras.initializers import Orthogonal, glorot_uniform\n"
   ]
  },
  {
   "cell_type": "markdown",
   "metadata": {
    "id": "M5LdSpAKVYz0"
   },
   "source": [
    "### Reading and exploring the training data"
   ]
  },
  {
   "cell_type": "code",
   "execution_count": null,
   "metadata": {
    "id": "qNW8MAWbVYz0"
   },
   "outputs": [],
   "source": [
    "fashion_mnist = pd.read_csv('train.csv')"
   ]
  },
  {
   "cell_type": "code",
   "execution_count": null,
   "metadata": {
    "colab": {
     "base_uri": "https://localhost:8080/",
     "height": 244
    },
    "id": "wRs9VgtwVYz3",
    "outputId": "cbea0f2c-ac09-41fd-cdfc-25be6e4b0267"
   },
   "outputs": [
    {
     "data": {
      "text/html": [
       "<div>\n",
       "<style scoped>\n",
       "    .dataframe tbody tr th:only-of-type {\n",
       "        vertical-align: middle;\n",
       "    }\n",
       "\n",
       "    .dataframe tbody tr th {\n",
       "        vertical-align: top;\n",
       "    }\n",
       "\n",
       "    .dataframe thead th {\n",
       "        text-align: right;\n",
       "    }\n",
       "</style>\n",
       "<table border=\"1\" class=\"dataframe\">\n",
       "  <thead>\n",
       "    <tr style=\"text-align: right;\">\n",
       "      <th></th>\n",
       "      <th>Id</th>\n",
       "      <th>Label</th>\n",
       "      <th>1</th>\n",
       "      <th>2</th>\n",
       "      <th>3</th>\n",
       "      <th>4</th>\n",
       "      <th>5</th>\n",
       "      <th>6</th>\n",
       "      <th>7</th>\n",
       "      <th>8</th>\n",
       "      <th>9</th>\n",
       "      <th>10</th>\n",
       "      <th>11</th>\n",
       "      <th>12</th>\n",
       "      <th>13</th>\n",
       "      <th>14</th>\n",
       "      <th>15</th>\n",
       "      <th>16</th>\n",
       "      <th>17</th>\n",
       "      <th>18</th>\n",
       "      <th>19</th>\n",
       "      <th>20</th>\n",
       "      <th>21</th>\n",
       "      <th>22</th>\n",
       "      <th>23</th>\n",
       "      <th>24</th>\n",
       "      <th>25</th>\n",
       "      <th>26</th>\n",
       "      <th>27</th>\n",
       "      <th>28</th>\n",
       "      <th>29</th>\n",
       "      <th>30</th>\n",
       "      <th>31</th>\n",
       "      <th>32</th>\n",
       "      <th>33</th>\n",
       "      <th>34</th>\n",
       "      <th>35</th>\n",
       "      <th>36</th>\n",
       "      <th>37</th>\n",
       "      <th>38</th>\n",
       "      <th>...</th>\n",
       "      <th>745</th>\n",
       "      <th>746</th>\n",
       "      <th>747</th>\n",
       "      <th>748</th>\n",
       "      <th>749</th>\n",
       "      <th>750</th>\n",
       "      <th>751</th>\n",
       "      <th>752</th>\n",
       "      <th>753</th>\n",
       "      <th>754</th>\n",
       "      <th>755</th>\n",
       "      <th>756</th>\n",
       "      <th>757</th>\n",
       "      <th>758</th>\n",
       "      <th>759</th>\n",
       "      <th>760</th>\n",
       "      <th>761</th>\n",
       "      <th>762</th>\n",
       "      <th>763</th>\n",
       "      <th>764</th>\n",
       "      <th>765</th>\n",
       "      <th>766</th>\n",
       "      <th>767</th>\n",
       "      <th>768</th>\n",
       "      <th>769</th>\n",
       "      <th>770</th>\n",
       "      <th>771</th>\n",
       "      <th>772</th>\n",
       "      <th>773</th>\n",
       "      <th>774</th>\n",
       "      <th>775</th>\n",
       "      <th>776</th>\n",
       "      <th>777</th>\n",
       "      <th>778</th>\n",
       "      <th>779</th>\n",
       "      <th>780</th>\n",
       "      <th>781</th>\n",
       "      <th>782</th>\n",
       "      <th>783</th>\n",
       "      <th>784</th>\n",
       "    </tr>\n",
       "  </thead>\n",
       "  <tbody>\n",
       "    <tr>\n",
       "      <th>0</th>\n",
       "      <td>10000</td>\n",
       "      <td>4</td>\n",
       "      <td>0</td>\n",
       "      <td>0</td>\n",
       "      <td>0</td>\n",
       "      <td>0</td>\n",
       "      <td>0</td>\n",
       "      <td>0</td>\n",
       "      <td>0</td>\n",
       "      <td>0</td>\n",
       "      <td>0</td>\n",
       "      <td>0</td>\n",
       "      <td>0</td>\n",
       "      <td>0</td>\n",
       "      <td>0</td>\n",
       "      <td>0</td>\n",
       "      <td>0</td>\n",
       "      <td>0</td>\n",
       "      <td>0</td>\n",
       "      <td>0</td>\n",
       "      <td>0</td>\n",
       "      <td>0</td>\n",
       "      <td>0</td>\n",
       "      <td>0</td>\n",
       "      <td>0</td>\n",
       "      <td>0</td>\n",
       "      <td>0</td>\n",
       "      <td>0</td>\n",
       "      <td>0</td>\n",
       "      <td>0</td>\n",
       "      <td>0</td>\n",
       "      <td>0</td>\n",
       "      <td>0</td>\n",
       "      <td>0</td>\n",
       "      <td>0</td>\n",
       "      <td>0</td>\n",
       "      <td>0</td>\n",
       "      <td>0</td>\n",
       "      <td>0</td>\n",
       "      <td>0</td>\n",
       "      <td>...</td>\n",
       "      <td>0</td>\n",
       "      <td>0</td>\n",
       "      <td>0</td>\n",
       "      <td>0</td>\n",
       "      <td>0</td>\n",
       "      <td>0</td>\n",
       "      <td>0</td>\n",
       "      <td>0</td>\n",
       "      <td>0</td>\n",
       "      <td>0</td>\n",
       "      <td>0</td>\n",
       "      <td>0</td>\n",
       "      <td>0</td>\n",
       "      <td>0</td>\n",
       "      <td>0</td>\n",
       "      <td>0</td>\n",
       "      <td>0</td>\n",
       "      <td>0</td>\n",
       "      <td>0</td>\n",
       "      <td>0</td>\n",
       "      <td>0</td>\n",
       "      <td>0</td>\n",
       "      <td>0</td>\n",
       "      <td>0</td>\n",
       "      <td>0</td>\n",
       "      <td>0</td>\n",
       "      <td>0</td>\n",
       "      <td>0</td>\n",
       "      <td>0</td>\n",
       "      <td>0</td>\n",
       "      <td>0</td>\n",
       "      <td>0</td>\n",
       "      <td>0</td>\n",
       "      <td>0</td>\n",
       "      <td>0</td>\n",
       "      <td>0</td>\n",
       "      <td>0</td>\n",
       "      <td>0</td>\n",
       "      <td>0</td>\n",
       "      <td>0</td>\n",
       "    </tr>\n",
       "    <tr>\n",
       "      <th>1</th>\n",
       "      <td>10001</td>\n",
       "      <td>0</td>\n",
       "      <td>0</td>\n",
       "      <td>0</td>\n",
       "      <td>0</td>\n",
       "      <td>0</td>\n",
       "      <td>0</td>\n",
       "      <td>0</td>\n",
       "      <td>0</td>\n",
       "      <td>0</td>\n",
       "      <td>0</td>\n",
       "      <td>0</td>\n",
       "      <td>0</td>\n",
       "      <td>0</td>\n",
       "      <td>0</td>\n",
       "      <td>0</td>\n",
       "      <td>0</td>\n",
       "      <td>0</td>\n",
       "      <td>0</td>\n",
       "      <td>0</td>\n",
       "      <td>0</td>\n",
       "      <td>0</td>\n",
       "      <td>0</td>\n",
       "      <td>0</td>\n",
       "      <td>0</td>\n",
       "      <td>0</td>\n",
       "      <td>0</td>\n",
       "      <td>0</td>\n",
       "      <td>0</td>\n",
       "      <td>0</td>\n",
       "      <td>0</td>\n",
       "      <td>0</td>\n",
       "      <td>0</td>\n",
       "      <td>0</td>\n",
       "      <td>0</td>\n",
       "      <td>0</td>\n",
       "      <td>0</td>\n",
       "      <td>0</td>\n",
       "      <td>0</td>\n",
       "      <td>0</td>\n",
       "      <td>...</td>\n",
       "      <td>0</td>\n",
       "      <td>0</td>\n",
       "      <td>0</td>\n",
       "      <td>0</td>\n",
       "      <td>0</td>\n",
       "      <td>0</td>\n",
       "      <td>0</td>\n",
       "      <td>0</td>\n",
       "      <td>0</td>\n",
       "      <td>0</td>\n",
       "      <td>0</td>\n",
       "      <td>0</td>\n",
       "      <td>0</td>\n",
       "      <td>0</td>\n",
       "      <td>0</td>\n",
       "      <td>0</td>\n",
       "      <td>0</td>\n",
       "      <td>0</td>\n",
       "      <td>0</td>\n",
       "      <td>0</td>\n",
       "      <td>0</td>\n",
       "      <td>0</td>\n",
       "      <td>0</td>\n",
       "      <td>0</td>\n",
       "      <td>0</td>\n",
       "      <td>0</td>\n",
       "      <td>0</td>\n",
       "      <td>0</td>\n",
       "      <td>0</td>\n",
       "      <td>0</td>\n",
       "      <td>0</td>\n",
       "      <td>0</td>\n",
       "      <td>0</td>\n",
       "      <td>0</td>\n",
       "      <td>0</td>\n",
       "      <td>0</td>\n",
       "      <td>0</td>\n",
       "      <td>0</td>\n",
       "      <td>0</td>\n",
       "      <td>0</td>\n",
       "    </tr>\n",
       "    <tr>\n",
       "      <th>2</th>\n",
       "      <td>10002</td>\n",
       "      <td>0</td>\n",
       "      <td>0</td>\n",
       "      <td>0</td>\n",
       "      <td>0</td>\n",
       "      <td>0</td>\n",
       "      <td>0</td>\n",
       "      <td>0</td>\n",
       "      <td>0</td>\n",
       "      <td>0</td>\n",
       "      <td>1</td>\n",
       "      <td>0</td>\n",
       "      <td>0</td>\n",
       "      <td>44</td>\n",
       "      <td>48</td>\n",
       "      <td>147</td>\n",
       "      <td>59</td>\n",
       "      <td>0</td>\n",
       "      <td>78</td>\n",
       "      <td>20</td>\n",
       "      <td>0</td>\n",
       "      <td>0</td>\n",
       "      <td>0</td>\n",
       "      <td>0</td>\n",
       "      <td>0</td>\n",
       "      <td>0</td>\n",
       "      <td>0</td>\n",
       "      <td>0</td>\n",
       "      <td>0</td>\n",
       "      <td>0</td>\n",
       "      <td>0</td>\n",
       "      <td>0</td>\n",
       "      <td>0</td>\n",
       "      <td>0</td>\n",
       "      <td>0</td>\n",
       "      <td>0</td>\n",
       "      <td>0</td>\n",
       "      <td>0</td>\n",
       "      <td>0</td>\n",
       "      <td>0</td>\n",
       "      <td>...</td>\n",
       "      <td>189</td>\n",
       "      <td>113</td>\n",
       "      <td>111</td>\n",
       "      <td>113</td>\n",
       "      <td>27</td>\n",
       "      <td>0</td>\n",
       "      <td>0</td>\n",
       "      <td>0</td>\n",
       "      <td>0</td>\n",
       "      <td>0</td>\n",
       "      <td>0</td>\n",
       "      <td>0</td>\n",
       "      <td>0</td>\n",
       "      <td>0</td>\n",
       "      <td>0</td>\n",
       "      <td>0</td>\n",
       "      <td>0</td>\n",
       "      <td>0</td>\n",
       "      <td>1</td>\n",
       "      <td>0</td>\n",
       "      <td>0</td>\n",
       "      <td>98</td>\n",
       "      <td>33</td>\n",
       "      <td>70</td>\n",
       "      <td>72</td>\n",
       "      <td>74</td>\n",
       "      <td>46</td>\n",
       "      <td>68</td>\n",
       "      <td>37</td>\n",
       "      <td>40</td>\n",
       "      <td>31</td>\n",
       "      <td>9</td>\n",
       "      <td>0</td>\n",
       "      <td>0</td>\n",
       "      <td>0</td>\n",
       "      <td>0</td>\n",
       "      <td>0</td>\n",
       "      <td>0</td>\n",
       "      <td>0</td>\n",
       "      <td>0</td>\n",
       "    </tr>\n",
       "    <tr>\n",
       "      <th>3</th>\n",
       "      <td>10003</td>\n",
       "      <td>4</td>\n",
       "      <td>0</td>\n",
       "      <td>0</td>\n",
       "      <td>0</td>\n",
       "      <td>0</td>\n",
       "      <td>0</td>\n",
       "      <td>0</td>\n",
       "      <td>0</td>\n",
       "      <td>0</td>\n",
       "      <td>0</td>\n",
       "      <td>0</td>\n",
       "      <td>0</td>\n",
       "      <td>0</td>\n",
       "      <td>0</td>\n",
       "      <td>0</td>\n",
       "      <td>0</td>\n",
       "      <td>0</td>\n",
       "      <td>0</td>\n",
       "      <td>0</td>\n",
       "      <td>0</td>\n",
       "      <td>0</td>\n",
       "      <td>0</td>\n",
       "      <td>0</td>\n",
       "      <td>0</td>\n",
       "      <td>0</td>\n",
       "      <td>0</td>\n",
       "      <td>0</td>\n",
       "      <td>0</td>\n",
       "      <td>0</td>\n",
       "      <td>0</td>\n",
       "      <td>0</td>\n",
       "      <td>0</td>\n",
       "      <td>0</td>\n",
       "      <td>0</td>\n",
       "      <td>0</td>\n",
       "      <td>0</td>\n",
       "      <td>0</td>\n",
       "      <td>0</td>\n",
       "      <td>0</td>\n",
       "      <td>...</td>\n",
       "      <td>0</td>\n",
       "      <td>0</td>\n",
       "      <td>0</td>\n",
       "      <td>0</td>\n",
       "      <td>0</td>\n",
       "      <td>0</td>\n",
       "      <td>0</td>\n",
       "      <td>0</td>\n",
       "      <td>0</td>\n",
       "      <td>0</td>\n",
       "      <td>0</td>\n",
       "      <td>0</td>\n",
       "      <td>0</td>\n",
       "      <td>0</td>\n",
       "      <td>0</td>\n",
       "      <td>0</td>\n",
       "      <td>0</td>\n",
       "      <td>0</td>\n",
       "      <td>0</td>\n",
       "      <td>0</td>\n",
       "      <td>0</td>\n",
       "      <td>0</td>\n",
       "      <td>0</td>\n",
       "      <td>0</td>\n",
       "      <td>0</td>\n",
       "      <td>0</td>\n",
       "      <td>0</td>\n",
       "      <td>0</td>\n",
       "      <td>0</td>\n",
       "      <td>0</td>\n",
       "      <td>0</td>\n",
       "      <td>0</td>\n",
       "      <td>0</td>\n",
       "      <td>0</td>\n",
       "      <td>0</td>\n",
       "      <td>0</td>\n",
       "      <td>0</td>\n",
       "      <td>0</td>\n",
       "      <td>0</td>\n",
       "      <td>0</td>\n",
       "    </tr>\n",
       "    <tr>\n",
       "      <th>4</th>\n",
       "      <td>10004</td>\n",
       "      <td>1</td>\n",
       "      <td>0</td>\n",
       "      <td>0</td>\n",
       "      <td>0</td>\n",
       "      <td>0</td>\n",
       "      <td>0</td>\n",
       "      <td>0</td>\n",
       "      <td>0</td>\n",
       "      <td>0</td>\n",
       "      <td>0</td>\n",
       "      <td>0</td>\n",
       "      <td>0</td>\n",
       "      <td>0</td>\n",
       "      <td>0</td>\n",
       "      <td>0</td>\n",
       "      <td>0</td>\n",
       "      <td>0</td>\n",
       "      <td>0</td>\n",
       "      <td>0</td>\n",
       "      <td>0</td>\n",
       "      <td>0</td>\n",
       "      <td>0</td>\n",
       "      <td>0</td>\n",
       "      <td>0</td>\n",
       "      <td>0</td>\n",
       "      <td>0</td>\n",
       "      <td>0</td>\n",
       "      <td>0</td>\n",
       "      <td>0</td>\n",
       "      <td>0</td>\n",
       "      <td>0</td>\n",
       "      <td>0</td>\n",
       "      <td>0</td>\n",
       "      <td>0</td>\n",
       "      <td>0</td>\n",
       "      <td>0</td>\n",
       "      <td>0</td>\n",
       "      <td>0</td>\n",
       "      <td>0</td>\n",
       "      <td>...</td>\n",
       "      <td>0</td>\n",
       "      <td>0</td>\n",
       "      <td>0</td>\n",
       "      <td>0</td>\n",
       "      <td>0</td>\n",
       "      <td>0</td>\n",
       "      <td>0</td>\n",
       "      <td>0</td>\n",
       "      <td>0</td>\n",
       "      <td>0</td>\n",
       "      <td>0</td>\n",
       "      <td>0</td>\n",
       "      <td>0</td>\n",
       "      <td>0</td>\n",
       "      <td>0</td>\n",
       "      <td>0</td>\n",
       "      <td>0</td>\n",
       "      <td>0</td>\n",
       "      <td>0</td>\n",
       "      <td>0</td>\n",
       "      <td>0</td>\n",
       "      <td>0</td>\n",
       "      <td>0</td>\n",
       "      <td>0</td>\n",
       "      <td>0</td>\n",
       "      <td>0</td>\n",
       "      <td>0</td>\n",
       "      <td>0</td>\n",
       "      <td>0</td>\n",
       "      <td>0</td>\n",
       "      <td>0</td>\n",
       "      <td>0</td>\n",
       "      <td>0</td>\n",
       "      <td>0</td>\n",
       "      <td>0</td>\n",
       "      <td>0</td>\n",
       "      <td>0</td>\n",
       "      <td>0</td>\n",
       "      <td>0</td>\n",
       "      <td>0</td>\n",
       "    </tr>\n",
       "  </tbody>\n",
       "</table>\n",
       "<p>5 rows × 786 columns</p>\n",
       "</div>"
      ],
      "text/plain": [
       "      Id  Label  1  2  3  4  5  6  ...  777  778  779  780  781  782  783  784\n",
       "0  10000      4  0  0  0  0  0  0  ...    0    0    0    0    0    0    0    0\n",
       "1  10001      0  0  0  0  0  0  0  ...    0    0    0    0    0    0    0    0\n",
       "2  10002      0  0  0  0  0  0  0  ...    0    0    0    0    0    0    0    0\n",
       "3  10003      4  0  0  0  0  0  0  ...    0    0    0    0    0    0    0    0\n",
       "4  10004      1  0  0  0  0  0  0  ...    0    0    0    0    0    0    0    0\n",
       "\n",
       "[5 rows x 786 columns]"
      ]
     },
     "execution_count": 5,
     "metadata": {
      "tags": []
     },
     "output_type": "execute_result"
    }
   ],
   "source": [
    "fashion_mnist.head()"
   ]
  },
  {
   "cell_type": "code",
   "execution_count": null,
   "metadata": {
    "id": "zYsTO4mRVYz6"
   },
   "outputs": [],
   "source": [
    "x = fashion_mnist[fashion_mnist.columns[2:786]].values\n",
    "y = np.array(fashion_mnist['Label'])"
   ]
  },
  {
   "cell_type": "code",
   "execution_count": null,
   "metadata": {
    "colab": {
     "base_uri": "https://localhost:8080/",
     "height": 34
    },
    "id": "jVUrM7IbVYz9",
    "outputId": "9a31f28d-848b-4d4d-a35a-4d77b8c54e06"
   },
   "outputs": [
    {
     "data": {
      "text/plain": [
       "(60000, 784)"
      ]
     },
     "execution_count": 24,
     "metadata": {
      "tags": []
     },
     "output_type": "execute_result"
    }
   ],
   "source": [
    "x.shape"
   ]
  },
  {
   "cell_type": "code",
   "execution_count": null,
   "metadata": {
    "colab": {
     "base_uri": "https://localhost:8080/",
     "height": 34
    },
    "id": "7LWubStyVY0B",
    "outputId": "00e0a853-b44a-4196-9425-261178055d1c"
   },
   "outputs": [
    {
     "data": {
      "text/plain": [
       "(60000,)"
      ]
     },
     "execution_count": 25,
     "metadata": {
      "tags": []
     },
     "output_type": "execute_result"
    }
   ],
   "source": [
    "y.shape"
   ]
  },
  {
   "cell_type": "code",
   "execution_count": null,
   "metadata": {
    "colab": {
     "base_uri": "https://localhost:8080/",
     "height": 282
    },
    "id": "3dnlIfyfVY0E",
    "outputId": "959baa68-5907-491a-fa42-ceb82682a76f"
   },
   "outputs": [
    {
     "data": {
      "text/plain": [
       "<matplotlib.image.AxesImage at 0x7fe946fc0cc0>"
      ]
     },
     "execution_count": 26,
     "metadata": {
      "tags": []
     },
     "output_type": "execute_result"
    },
    {
     "data": {
      "image/png": "[encoded data removed]",
      "text/plain": [
       "<Figure size 432x288 with 1 Axes>"
      ]
     },
     "metadata": {
      "tags": []
     },
     "output_type": "display_data"
    }
   ],
   "source": [
    "plt.imshow(x[5].reshape(28,28))"
   ]
  },
  {
   "cell_type": "code",
   "execution_count": null,
   "metadata": {
    "colab": {
     "base_uri": "https://localhost:8080/",
     "height": 524
    },
    "id": "AZ5Uxfv0VY0H",
    "outputId": "e970ef4a-6ebb-495a-8f23-30e97011725d"
   },
   "outputs": [
    {
     "data": {
      "image/png": "[encoded data removed]",
      "text/plain": [
       "<Figure size 648x648 with 9 Axes>"
      ]
     },
     "metadata": {
      "tags": []
     },
     "output_type": "display_data"
    }
   ],
   "source": [
    "plt.figure(figsize=(9,9))\n",
    "for i in range(9):\n",
    "    plt.subplot(3,3,i+1)\n",
    "    plt.xticks([])\n",
    "    plt.yticks([])\n",
    "    plt.imshow(x[i].reshape(28,28), cmap=plt.cm.binary)\n",
    "plt.show()"
   ]
  },
  {
   "cell_type": "code",
   "execution_count": null,
   "metadata": {
    "colab": {
     "base_uri": "https://localhost:8080/",
     "height": 34
    },
    "id": "0OwcxlsOVY0J",
    "outputId": "a0335b31-e4ab-4a28-f79e-e92787ce4951"
   },
   "outputs": [
    {
     "data": {
      "text/plain": [
       "{0, 1, 2, 3, 4}"
      ]
     },
     "execution_count": 28,
     "metadata": {
      "tags": []
     },
     "output_type": "execute_result"
    }
   ],
   "source": [
    "#Finding the number of classes\n",
    "set(y)"
   ]
  },
  {
   "cell_type": "markdown",
   "metadata": {
    "id": "v8lDYfKiVY0M"
   },
   "source": [
    "#### Discussion\n",
    "\n",
    "The data set contains the pixel values of a 28X28 images of clothes. The data set contains 5 classes, which are {0, 1, 2, 3, 4}."
   ]
  },
  {
   "cell_type": "markdown",
   "metadata": {
    "id": "C_AwNaCsVY0M"
   },
   "source": [
    "### Splitting the training data into three sets: train (60%), validation (20%), and testing (20%)"
   ]
  },
  {
   "cell_type": "code",
   "execution_count": null,
   "metadata": {
    "id": "0prPeMURVY0N"
   },
   "outputs": [],
   "source": [
    "# First split the data into training (80%) and testing (20%)\n",
    "x_train, x_test, y_train, y_test = train_test_split(x, y, test_size=0.2, random_state = 42)\n",
    "#Now split the training dataset into training (75%) and validation (25%)\n",
    "x_train, x_val, y_train, y_val = train_test_split(x_train, y_train, test_size=0.25, random_state = 42)"
   ]
  },
  {
   "cell_type": "code",
   "execution_count": null,
   "metadata": {
    "colab": {
     "base_uri": "https://localhost:8080/",
     "height": 34
    },
    "id": "rGSrPvp6VY0Q",
    "outputId": "6f64080b-74dc-4f17-94bb-8a8d5f009328"
   },
   "outputs": [
    {
     "data": {
      "text/plain": [
       "(36000, 784)"
      ]
     },
     "execution_count": 6,
     "metadata": {
      "tags": []
     },
     "output_type": "execute_result"
    }
   ],
   "source": [
    "x_train.shape"
   ]
  },
  {
   "cell_type": "code",
   "execution_count": null,
   "metadata": {
    "colab": {
     "base_uri": "https://localhost:8080/",
     "height": 34
    },
    "id": "IrWfJkN4VY0T",
    "outputId": "c62243e1-6ba0-409b-eed2-4e9b29145659"
   },
   "outputs": [
    {
     "data": {
      "text/plain": [
       "(12000, 784)"
      ]
     },
     "execution_count": 7,
     "metadata": {
      "tags": []
     },
     "output_type": "execute_result"
    }
   ],
   "source": [
    "x_val.shape"
   ]
  },
  {
   "cell_type": "code",
   "execution_count": null,
   "metadata": {
    "colab": {
     "base_uri": "https://localhost:8080/",
     "height": 34
    },
    "id": "UyWAicLFVY0W",
    "outputId": "08a6fc6d-db37-49ea-c12d-cb29a4f6fe77"
   },
   "outputs": [
    {
     "data": {
      "text/plain": [
       "(12000, 784)"
      ]
     },
     "execution_count": 8,
     "metadata": {
      "tags": []
     },
     "output_type": "execute_result"
    }
   ],
   "source": [
    "x_test.shape"
   ]
  },
  {
   "cell_type": "markdown",
   "metadata": {
    "id": "pHl7po74VY0Z"
   },
   "source": [
    "### Preprocessing the input data\n",
    "\n",
    "We tried to different preprocessing techiniques, which are standardization and scaling the pixel values ny dividing the value of each pixel by 255. It was found that scaling the pixel values gave slightly higher accurecy"
   ]
  },
  {
   "cell_type": "code",
   "execution_count": null,
   "metadata": {
    "id": "z3UNn7KfVY0Z"
   },
   "outputs": [],
   "source": [
    "# Transform to float32 and normalize\n",
    "x_train = x_train.astype('float32') / 255.0  \n",
    "x_val = x_val.astype('float32') / 255.0 \n",
    "x_test = x_test.astype('float32') / 255.0 "
   ]
  },
  {
   "cell_type": "code",
   "execution_count": null,
   "metadata": {
    "id": "DN5heKkcVY0c"
   },
   "outputs": [],
   "source": [
    "# Reshaping the tensor containing the pixel values, such that it will be suitable to be used with CNN layers\n",
    "x_train = x_train.reshape((36000, 28, 28, 1))\n",
    "x_val = x_val.reshape((12000, 28, 28, 1))\n",
    "x_test = x_test.reshape((12000, 28, 28, 1))"
   ]
  },
  {
   "cell_type": "code",
   "execution_count": null,
   "metadata": {
    "id": "kK3uVDiIVY0f"
   },
   "outputs": [],
   "source": [
    "# Converting the labels to one-hot incoding, in order to be able to use softmax\n",
    "y_train = to_categorical(y_train)\n",
    "y_val = to_categorical(y_val)\n",
    "y_test = to_categorical(y_test)"
   ]
  },
  {
   "cell_type": "code",
   "execution_count": null,
   "metadata": {
    "id": "gEQ9ucBFVY0h"
   },
   "outputs": [],
   "source": [
    "### Standardizing the input dada\n",
    "scaler = StandardScaler()\n",
    "scaler.fit(x_train)\n",
    "#\n",
    "x_train = scaler.transform(x_train)\n",
    "x_val = scaler.transform(x_val)\n",
    "x_test = scaler.transform(x_test)\n",
    "#\n",
    "#\n",
    "x_train = x_train.reshape((36000, 28, 28, 1))\n",
    "x_val = x_val.reshape((12000, 28, 28, 1))\n",
    "x_test = x_test.reshape((12000, 28, 28, 1))\n",
    "\n",
    "y_train = to_categorical(y_train)\n",
    "y_val = to_categorical(y_val)\n",
    "y_test = to_categorical(y_test)"
   ]
  },
  {
   "cell_type": "code",
   "execution_count": null,
   "metadata": {
    "id": "qZft_mX1VY0k"
   },
   "outputs": [],
   "source": [
    "x_train = x_train.reshape((36000, 28, 28, 1))\n",
    "x_val = x_val.reshape((12000, 28, 28, 1))\n",
    "x_test = x_test.reshape((12000, 28, 28, 1))\n",
    "\n",
    "x_train = x_train.astype('float64')\n",
    "x_val = x_val.astype('float64')\n",
    "x_test = x_test.astype('float64')\n",
    "\n",
    "#Standarization\n",
    "mean = np.mean(x_train, axis=(0,1,2,3))\n",
    "std = np.std(x_train, axis=(0,1,2,3))\n",
    "\n",
    "x_train = (x_train-mean)/(std+1e-9)\n",
    "x_val = (x_val-mean)/(std+1e-9)\n",
    "x_test = (x_test-mean)/(std+1e-9) \n",
    "\n",
    "y_train = to_categorical(y_train)\n",
    "y_val = to_categorical(y_val)\n",
    "y_test = to_categorical(y_test)"
   ]
  },
  {
   "cell_type": "markdown",
   "metadata": {
    "id": "deZ74uPOVY0m"
   },
   "source": [
    "### Building the CNN models"
   ]
  },
  {
   "cell_type": "markdown",
   "metadata": {
    "id": "gL8fIklqVY0n"
   },
   "source": [
    "#### My model"
   ]
  },
  {
   "cell_type": "code",
   "execution_count": null,
   "metadata": {
    "id": "zcUhoW1jVY0n"
   },
   "outputs": [],
   "source": [
    "def my_model():\n",
    "    model = Sequential()\n",
    "    model.add(Conv2D(32, (3,3), activation = 'relu', padding='same', input_shape=(28,28,1)))\n",
    "    model.add(BatchNormalization())\n",
    "    model.add(Conv2D(64, (3,3), activation = 'relu', padding='same',input_shape=(28,28,1)))\n",
    "    model.add(BatchNormalization())\n",
    "    model.add(Conv2D(128, (3,3), activation = 'relu', padding='same',input_shape=(28,28,1)))\n",
    "    model.add(BatchNormalization())\n",
    "    model.add(MaxPooling2D((2,2)))\n",
    "    model.add(Flatten())\n",
    "    model.add(Dense(1024, activation='relu'))\n",
    "    model.add(Dropout(0.7))\n",
    "    model.add(BatchNormalization())\n",
    "    model.add(Dense(5, activation='softmax'))\n",
    "    #my_opt = SGD(learning_rate=0.001, momentum=0.9)\n",
    "    model.compile(loss='categorical_crossentropy', optimizer='adam', metrics=['accuracy'])\n",
    "    return model"
   ]
  },
  {
   "cell_type": "code",
   "execution_count": null,
   "metadata": {
    "id": "DExo__mPVY0q"
   },
   "outputs": [],
   "source": [
    "model = my_model()"
   ]
  },
  {
   "cell_type": "code",
   "execution_count": null,
   "metadata": {
    "colab": {
     "base_uri": "https://localhost:8080/",
     "height": 521
    },
    "id": "wts4g1egVY0t",
    "outputId": "200cc4f5-1fda-4b34-aec1-10daf7f257af"
   },
   "outputs": [
    {
     "name": "stdout",
     "output_type": "stream",
     "text": [
      "Model: \"sequential_1\"\n",
      "_________________________________________________________________\n",
      "Layer (type)                 Output Shape              Param #   \n",
      "=================================================================\n",
      "conv2d_3 (Conv2D)            (None, 28, 28, 32)        320       \n",
      "_________________________________________________________________\n",
      "batch_normalization_4 (Batch (None, 28, 28, 32)        128       \n",
      "_________________________________________________________________\n",
      "conv2d_4 (Conv2D)            (None, 28, 28, 64)        18496     \n",
      "_________________________________________________________________\n",
      "batch_normalization_5 (Batch (None, 28, 28, 64)        256       \n",
      "_________________________________________________________________\n",
      "conv2d_5 (Conv2D)            (None, 28, 28, 128)       73856     \n",
      "_________________________________________________________________\n",
      "batch_normalization_6 (Batch (None, 28, 28, 128)       512       \n",
      "_________________________________________________________________\n",
      "max_pooling2d_1 (MaxPooling2 (None, 14, 14, 128)       0         \n",
      "_________________________________________________________________\n",
      "flatten_1 (Flatten)          (None, 25088)             0         \n",
      "_________________________________________________________________\n",
      "dense_2 (Dense)              (None, 1024)              25691136  \n",
      "_________________________________________________________________\n",
      "batch_normalization_7 (Batch (None, 1024)              4096      \n",
      "_________________________________________________________________\n",
      "dense_3 (Dense)              (None, 5)                 5125      \n",
      "=================================================================\n",
      "Total params: 25,793,925\n",
      "Trainable params: 25,791,429\n",
      "Non-trainable params: 2,496\n",
      "_________________________________________________________________\n"
     ]
    }
   ],
   "source": [
    "model.summary()"
   ]
  },
  {
   "cell_type": "code",
   "execution_count": null,
   "metadata": {
    "colab": {
     "base_uri": "https://localhost:8080/",
     "height": 1000
    },
    "id": "RZeaGjYmVY0x",
    "outputId": "1012473f-e6ea-469c-ed42-1c0b93eebacd"
   },
   "outputs": [
    {
     "name": "stdout",
     "output_type": "stream",
     "text": [
      "Epoch 1/50\n",
      "282/282 [==============================] - 6s 21ms/step - loss: 0.6482 - accuracy: 0.7364 - val_loss: 1.3851 - val_accuracy: 0.4490\n",
      "Epoch 2/50\n",
      "282/282 [==============================] - 6s 21ms/step - loss: 0.4990 - accuracy: 0.7964 - val_loss: 0.5878 - val_accuracy: 0.7531\n",
      "Epoch 3/50\n",
      "282/282 [==============================] - 6s 21ms/step - loss: 0.4404 - accuracy: 0.8203 - val_loss: 0.4257 - val_accuracy: 0.8188\n",
      "Epoch 4/50\n",
      "282/282 [==============================] - 6s 21ms/step - loss: 0.4217 - accuracy: 0.8281 - val_loss: 0.4588 - val_accuracy: 0.8104\n",
      "Epoch 5/50\n",
      "282/282 [==============================] - 6s 21ms/step - loss: 0.4142 - accuracy: 0.8336 - val_loss: 0.8836 - val_accuracy: 0.6759\n",
      "Epoch 6/50\n",
      "282/282 [==============================] - 6s 21ms/step - loss: 0.3997 - accuracy: 0.8391 - val_loss: 0.4437 - val_accuracy: 0.8191\n",
      "Epoch 7/50\n",
      "282/282 [==============================] - 6s 21ms/step - loss: 0.3709 - accuracy: 0.8499 - val_loss: 0.9047 - val_accuracy: 0.6537\n",
      "Epoch 8/50\n",
      "282/282 [==============================] - 6s 21ms/step - loss: 0.3932 - accuracy: 0.8413 - val_loss: 0.3417 - val_accuracy: 0.8598\n",
      "Epoch 9/50\n",
      "282/282 [==============================] - 6s 20ms/step - loss: 0.3523 - accuracy: 0.8578 - val_loss: 0.3204 - val_accuracy: 0.8677\n",
      "Epoch 10/50\n",
      "282/282 [==============================] - 6s 21ms/step - loss: 0.3435 - accuracy: 0.8626 - val_loss: 0.3394 - val_accuracy: 0.8577\n",
      "Epoch 11/50\n",
      "282/282 [==============================] - 6s 21ms/step - loss: 0.3256 - accuracy: 0.8688 - val_loss: 0.4263 - val_accuracy: 0.8267\n",
      "Epoch 12/50\n",
      "282/282 [==============================] - 6s 21ms/step - loss: 0.3062 - accuracy: 0.8765 - val_loss: 0.4340 - val_accuracy: 0.8226\n",
      "Epoch 13/50\n",
      "282/282 [==============================] - 6s 21ms/step - loss: 0.3106 - accuracy: 0.8754 - val_loss: 0.3824 - val_accuracy: 0.8455\n",
      "Epoch 14/50\n",
      "282/282 [==============================] - 6s 21ms/step - loss: 0.2854 - accuracy: 0.8847 - val_loss: 0.3015 - val_accuracy: 0.8775\n",
      "Epoch 15/50\n",
      "282/282 [==============================] - 6s 21ms/step - loss: 0.2680 - accuracy: 0.8928 - val_loss: 0.3345 - val_accuracy: 0.8616\n",
      "Epoch 16/50\n",
      "282/282 [==============================] - 6s 20ms/step - loss: 0.2541 - accuracy: 0.8981 - val_loss: 0.5534 - val_accuracy: 0.8005\n",
      "Epoch 17/50\n",
      "282/282 [==============================] - 6s 20ms/step - loss: 0.2401 - accuracy: 0.9035 - val_loss: 0.3612 - val_accuracy: 0.8546\n",
      "Epoch 18/50\n",
      "282/282 [==============================] - 6s 21ms/step - loss: 0.2287 - accuracy: 0.9076 - val_loss: 0.3872 - val_accuracy: 0.8550\n",
      "Epoch 19/50\n",
      "282/282 [==============================] - 6s 21ms/step - loss: 0.2226 - accuracy: 0.9117 - val_loss: 0.4110 - val_accuracy: 0.8422\n",
      "Epoch 20/50\n",
      "282/282 [==============================] - 6s 21ms/step - loss: 0.2119 - accuracy: 0.9172 - val_loss: 0.3654 - val_accuracy: 0.8596\n",
      "Epoch 21/50\n",
      "282/282 [==============================] - 6s 20ms/step - loss: 0.1892 - accuracy: 0.9251 - val_loss: 0.4487 - val_accuracy: 0.8396\n",
      "Epoch 22/50\n",
      "282/282 [==============================] - 6s 21ms/step - loss: 0.2047 - accuracy: 0.9192 - val_loss: 0.3199 - val_accuracy: 0.8798\n",
      "Epoch 23/50\n",
      "282/282 [==============================] - 6s 20ms/step - loss: 0.1737 - accuracy: 0.9326 - val_loss: 0.3505 - val_accuracy: 0.8706\n",
      "Epoch 24/50\n",
      "282/282 [==============================] - 6s 21ms/step - loss: 0.1730 - accuracy: 0.9323 - val_loss: 0.4281 - val_accuracy: 0.8651\n",
      "Epoch 25/50\n",
      "282/282 [==============================] - 6s 20ms/step - loss: 0.1883 - accuracy: 0.9263 - val_loss: 0.3644 - val_accuracy: 0.8655\n",
      "Epoch 26/50\n",
      "282/282 [==============================] - 6s 20ms/step - loss: 0.1803 - accuracy: 0.9272 - val_loss: 0.3329 - val_accuracy: 0.8748\n",
      "Epoch 27/50\n",
      "282/282 [==============================] - 6s 21ms/step - loss: 0.1405 - accuracy: 0.9458 - val_loss: 0.3501 - val_accuracy: 0.8838\n",
      "Epoch 28/50\n",
      "282/282 [==============================] - 6s 20ms/step - loss: 0.1308 - accuracy: 0.9495 - val_loss: 0.3828 - val_accuracy: 0.8649\n",
      "Epoch 29/50\n",
      "282/282 [==============================] - 6s 20ms/step - loss: 0.1230 - accuracy: 0.9535 - val_loss: 0.3352 - val_accuracy: 0.8872\n",
      "Epoch 30/50\n",
      "282/282 [==============================] - 6s 20ms/step - loss: 0.1119 - accuracy: 0.9572 - val_loss: 0.4638 - val_accuracy: 0.8547\n",
      "Epoch 31/50\n",
      "282/282 [==============================] - 6s 20ms/step - loss: 0.0983 - accuracy: 0.9634 - val_loss: 0.4027 - val_accuracy: 0.8684\n",
      "Epoch 32/50\n",
      "282/282 [==============================] - 6s 21ms/step - loss: 0.1105 - accuracy: 0.9579 - val_loss: 0.4002 - val_accuracy: 0.8737\n",
      "Epoch 33/50\n",
      "282/282 [==============================] - 6s 21ms/step - loss: 0.0963 - accuracy: 0.9639 - val_loss: 0.3800 - val_accuracy: 0.8780\n",
      "Epoch 34/50\n",
      "282/282 [==============================] - 6s 21ms/step - loss: 0.0795 - accuracy: 0.9709 - val_loss: 0.5330 - val_accuracy: 0.8475\n",
      "Epoch 35/50\n",
      "282/282 [==============================] - 6s 21ms/step - loss: 0.0777 - accuracy: 0.9711 - val_loss: 0.5153 - val_accuracy: 0.8558\n",
      "Epoch 36/50\n",
      "282/282 [==============================] - 6s 21ms/step - loss: 0.0771 - accuracy: 0.9718 - val_loss: 0.4194 - val_accuracy: 0.8763\n",
      "Epoch 37/50\n",
      "282/282 [==============================] - 6s 21ms/step - loss: 0.0676 - accuracy: 0.9754 - val_loss: 0.4191 - val_accuracy: 0.8748\n",
      "Epoch 38/50\n",
      "282/282 [==============================] - 6s 21ms/step - loss: 0.1354 - accuracy: 0.9518 - val_loss: 0.5936 - val_accuracy: 0.8370\n",
      "Epoch 39/50\n",
      "282/282 [==============================] - 6s 21ms/step - loss: 0.1045 - accuracy: 0.9600 - val_loss: 0.4770 - val_accuracy: 0.8627\n",
      "Epoch 40/50\n",
      "282/282 [==============================] - 6s 21ms/step - loss: 0.0774 - accuracy: 0.9710 - val_loss: 0.4188 - val_accuracy: 0.8806\n",
      "Epoch 41/50\n",
      "282/282 [==============================] - 6s 21ms/step - loss: 0.0903 - accuracy: 0.9661 - val_loss: 0.4561 - val_accuracy: 0.8760\n",
      "Epoch 42/50\n",
      "282/282 [==============================] - 6s 21ms/step - loss: 0.0698 - accuracy: 0.9746 - val_loss: 0.6095 - val_accuracy: 0.8332\n",
      "Epoch 43/50\n",
      "282/282 [==============================] - 6s 21ms/step - loss: 0.0700 - accuracy: 0.9731 - val_loss: 0.4453 - val_accuracy: 0.8797\n",
      "Epoch 44/50\n",
      "282/282 [==============================] - 6s 21ms/step - loss: 0.0637 - accuracy: 0.9770 - val_loss: 0.5076 - val_accuracy: 0.8539\n",
      "Epoch 45/50\n",
      "282/282 [==============================] - 6s 21ms/step - loss: 0.0597 - accuracy: 0.9774 - val_loss: 0.4480 - val_accuracy: 0.8766\n",
      "Epoch 46/50\n",
      "282/282 [==============================] - 6s 21ms/step - loss: 0.0668 - accuracy: 0.9764 - val_loss: 14.0415 - val_accuracy: 0.3886\n",
      "Epoch 47/50\n",
      "282/282 [==============================] - 6s 21ms/step - loss: 0.0939 - accuracy: 0.9654 - val_loss: 0.4817 - val_accuracy: 0.8717\n",
      "Epoch 48/50\n",
      "282/282 [==============================] - 6s 21ms/step - loss: 0.0682 - accuracy: 0.9748 - val_loss: 0.4443 - val_accuracy: 0.8781\n",
      "Epoch 49/50\n",
      "282/282 [==============================] - 6s 21ms/step - loss: 0.0498 - accuracy: 0.9824 - val_loss: 0.5028 - val_accuracy: 0.8727\n",
      "Epoch 50/50\n",
      "282/282 [==============================] - 6s 21ms/step - loss: 0.0480 - accuracy: 0.9831 - val_loss: 0.6201 - val_accuracy: 0.8564\n"
     ]
    }
   ],
   "source": [
    "model = my_model()\n",
    "history = model.fit(x_train, y_train, epochs= 50 , batch_size=128, validation_data=(x_val, y_val))"
   ]
  },
  {
   "cell_type": "code",
   "execution_count": null,
   "metadata": {
    "colab": {
     "base_uri": "https://localhost:8080/",
     "height": 34
    },
    "id": "M1aDfiVsVY04",
    "outputId": "46ddc2c4-c459-4934-af0a-ec729135aba0"
   },
   "outputs": [
    {
     "name": "stdout",
     "output_type": "stream",
     "text": [
      "375/375 - 1s - loss: 0.6089 - accuracy: 0.8587\n"
     ]
    }
   ],
   "source": [
    "test_loss, test_acc = model.evaluate(x_test, y_test, verbose=2) #report performance metrics"
   ]
  },
  {
   "cell_type": "code",
   "execution_count": null,
   "metadata": {
    "colab": {
     "base_uri": "https://localhost:8080/",
     "height": 34
    },
    "id": "XH76DaNpVY0_",
    "outputId": "f6aa65c0-b8f5-4a07-c82b-3256c68745f1"
   },
   "outputs": [
    {
     "name": "stdout",
     "output_type": "stream",
     "text": [
      "Test Accuracy: 0.8587499856948853\n"
     ]
    }
   ],
   "source": [
    "print('Test Accuracy:', test_acc)\n"
   ]
  },
  {
   "cell_type": "code",
   "execution_count": null,
   "metadata": {
    "colab": {
     "base_uri": "https://localhost:8080/",
     "height": 573
    },
    "id": "Rwrf6SNbVY1F",
    "outputId": "82fea04d-e0ef-4747-9fa2-22ee0bc4bf0c"
   },
   "outputs": [
    {
     "data": {
      "image/png": "[encoded data removed]",
      "text/plain": [
       "<Figure size 432x288 with 1 Axes>"
      ]
     },
     "metadata": {
      "tags": []
     },
     "output_type": "display_data"
    },
    {
     "data": {
      "image/png": "[encoded data removed]",
      "text/plain": [
       "<Figure size 432x288 with 1 Axes>"
      ]
     },
     "metadata": {
      "tags": []
     },
     "output_type": "display_data"
    }
   ],
   "source": [
    "#Visualize the models accuracy\n",
    "plt.plot(history.history['accuracy'])\n",
    "plt.plot(history.history['val_accuracy'])\n",
    "plt.title('Model Accuracy')\n",
    "plt.ylabel('Accuracy')\n",
    "plt.xlabel('Epoch')\n",
    "plt.legend(['Training', 'Validation'], loc='lower right')\n",
    "plt.grid()\n",
    "plt.show()\n",
    "#Visualize the models loss\n",
    "plt.plot(history.history['loss'])\n",
    "plt.plot(history.history['val_loss'])\n",
    "plt.title('Model Loss')\n",
    "plt.ylabel('Loss')\n",
    "plt.xlabel('Epoch')\n",
    "plt.legend(['Training', 'Validation'], loc='upper right')\n",
    "plt.grid()\n",
    "plt.show()"
   ]
  },
  {
   "cell_type": "code",
   "execution_count": null,
   "metadata": {
    "colab": {
     "base_uri": "https://localhost:8080/",
     "height": 573
    },
    "id": "_JKO7PShVY1K",
    "outputId": "09fb6f30-3009-4dbf-8f1f-29d551f01c2e"
   },
   "outputs": [
    {
     "data": {
      "image/png": "[encoded data removed]",
      "text/plain": [
       "<Figure size 432x288 with 1 Axes>"
      ]
     },
     "metadata": {
      "tags": []
     },
     "output_type": "display_data"
    },
    {
     "data": {
      "image/png": "[encoded data removed]",
      "text/plain": [
       "<Figure size 432x288 with 1 Axes>"
      ]
     },
     "metadata": {
      "tags": []
     },
     "output_type": "display_data"
    }
   ],
   "source": [
    "#Plotting the validation accuracy vs the training accuracy\n",
    "plt.plot(history.history['accuracy'], history.history['val_accuracy'])\n",
    "plt.title('Validation accuracy vs Training accuracy')\n",
    "plt.ylabel('Validation accuracy')\n",
    "plt.xlabel('Training accuracy')\n",
    "plt.grid()\n",
    "plt.show()\n",
    "#Plotting the validation loss vs the training loss\n",
    "plt.plot(history.history['loss'], history.history['val_loss'])\n",
    "plt.title('Validation loss vs Training loss')\n",
    "plt.ylabel('Validation loss')\n",
    "plt.xlabel('Training loss')\n",
    "plt.grid()\n",
    "plt.show()"
   ]
  },
  {
   "cell_type": "markdown",
   "metadata": {
    "id": "0sz3rZu6VY1P"
   },
   "source": [
    "#### VGG Model"
   ]
  },
  {
   "cell_type": "code",
   "execution_count": null,
   "metadata": {
    "id": "9oUWBaqLVY1Q"
   },
   "outputs": [],
   "source": [
    "def VGG():\n",
    "    model = Sequential()\n",
    "    \n",
    "    model.add(Conv2D(16, (3, 3), activation='relu', padding='same', input_shape=(28,28,1)))\n",
    "    model.add(BatchNormalization())\n",
    "    model.add(Conv2D(16, (3, 3), activation='relu', padding='same', input_shape=(28,28,1)))\n",
    "    model.add(BatchNormalization())\n",
    "    model.add(MaxPooling2D((2, 2),strides=(2,2)))\n",
    "\n",
    "    model.add(Conv2D(32, (3, 3), activation='relu', padding='same'))\n",
    "    model.add(BatchNormalization())\n",
    "    model.add(Conv2D(32, (3, 3), activation='relu', padding='same'))\n",
    "    model.add(BatchNormalization())\n",
    "    model.add(MaxPooling2D((2, 2),strides=(2,2)))\n",
    "    \n",
    "    model.add(Conv2D(64, (3, 3), activation='relu', padding='same'))\n",
    "    model.add(BatchNormalization())\n",
    "    model.add(Conv2D(64, (3, 3), activation='relu', padding='same'))\n",
    "    model.add(BatchNormalization())\n",
    "    model.add(Conv2D(64, (3, 3), activation='relu', padding='same'))\n",
    "    model.add(BatchNormalization())\n",
    "    model.add(MaxPooling2D((2, 2),strides=(2,2)))\n",
    "\n",
    "    model.add(Conv2D(64, (3, 3), activation='relu', padding='same'))\n",
    "    model.add(BatchNormalization())\n",
    "    model.add(Conv2D(64, (3, 3), activation='relu', padding='same'))\n",
    "    model.add(BatchNormalization())\n",
    "    model.add(Conv2D(64, (3, 3), activation='relu', padding='same'))\n",
    "    model.add(BatchNormalization())\n",
    "    model.add(MaxPooling2D((2, 2),strides=(2,2)))\n",
    "\n",
    "\n",
    "    \n",
    "    model.add(Flatten())\n",
    "    model.add(Dense(1024, activation='relu'))\n",
    "    model.add(Dropout(0.5))\n",
    "    model.add(Dense(1024, activation='relu'))\n",
    "    model.add(Dropout(0.5))\n",
    "#    \n",
    "    \n",
    "\n",
    "    model.add(Dense(5, activation='softmax')) \n",
    "    # compile the keras model\n",
    "    model.compile(optimizer='adam',loss='categorical_crossentropy',metrics=['accuracy'])\n",
    "    \n",
    "    return model"
   ]
  },
  {
   "cell_type": "code",
   "execution_count": null,
   "metadata": {
    "colab": {
     "base_uri": "https://localhost:8080/",
     "height": 1000
    },
    "id": "AHcxqG7fVY1Z",
    "outputId": "f2391f13-816d-460a-c107-02f7600c7c7f"
   },
   "outputs": [
    {
     "name": "stdout",
     "output_type": "stream",
     "text": [
      "Epoch 1/50\n",
      "282/282 [==============================] - 4s 12ms/step - loss: 0.6033 - accuracy: 0.7540 - val_loss: 0.9505 - val_accuracy: 0.5981\n",
      "Epoch 2/50\n",
      "282/282 [==============================] - 3s 11ms/step - loss: 0.4206 - accuracy: 0.8326 - val_loss: 0.4520 - val_accuracy: 0.8152\n",
      "Epoch 3/50\n",
      "282/282 [==============================] - 3s 11ms/step - loss: 0.3667 - accuracy: 0.8555 - val_loss: 0.3661 - val_accuracy: 0.8501\n",
      "Epoch 4/50\n",
      "282/282 [==============================] - 3s 11ms/step - loss: 0.3473 - accuracy: 0.8623 - val_loss: 0.3576 - val_accuracy: 0.8528\n",
      "Epoch 5/50\n",
      "282/282 [==============================] - 3s 11ms/step - loss: 0.3116 - accuracy: 0.8761 - val_loss: 0.3986 - val_accuracy: 0.8351\n",
      "Epoch 6/50\n",
      "282/282 [==============================] - 3s 11ms/step - loss: 0.3006 - accuracy: 0.8815 - val_loss: 0.3725 - val_accuracy: 0.8448\n",
      "Epoch 7/50\n",
      "282/282 [==============================] - 3s 11ms/step - loss: 0.2806 - accuracy: 0.8876 - val_loss: 0.3450 - val_accuracy: 0.8656\n",
      "Epoch 8/50\n",
      "282/282 [==============================] - 3s 11ms/step - loss: 0.2742 - accuracy: 0.8921 - val_loss: 0.4141 - val_accuracy: 0.8307\n",
      "Epoch 9/50\n",
      "282/282 [==============================] - 3s 11ms/step - loss: 0.2526 - accuracy: 0.9012 - val_loss: 0.3622 - val_accuracy: 0.8600\n",
      "Epoch 10/50\n",
      "282/282 [==============================] - 3s 11ms/step - loss: 0.2333 - accuracy: 0.9072 - val_loss: 0.5052 - val_accuracy: 0.8183\n",
      "Epoch 11/50\n",
      "282/282 [==============================] - 3s 11ms/step - loss: 0.2331 - accuracy: 0.9062 - val_loss: 0.5736 - val_accuracy: 0.7983\n",
      "Epoch 12/50\n",
      "282/282 [==============================] - 3s 11ms/step - loss: 0.2099 - accuracy: 0.9174 - val_loss: 0.4765 - val_accuracy: 0.8396\n",
      "Epoch 13/50\n",
      "282/282 [==============================] - 3s 11ms/step - loss: 0.2011 - accuracy: 0.9204 - val_loss: 0.6618 - val_accuracy: 0.7979\n",
      "Epoch 14/50\n",
      "282/282 [==============================] - 3s 11ms/step - loss: 0.1927 - accuracy: 0.9262 - val_loss: 0.3409 - val_accuracy: 0.8775\n",
      "Epoch 15/50\n",
      "282/282 [==============================] - 3s 11ms/step - loss: 0.1848 - accuracy: 0.9292 - val_loss: 0.5021 - val_accuracy: 0.8453\n",
      "Epoch 16/50\n",
      "282/282 [==============================] - 3s 11ms/step - loss: 0.1851 - accuracy: 0.9291 - val_loss: 0.4631 - val_accuracy: 0.8542\n",
      "Epoch 17/50\n",
      "282/282 [==============================] - 3s 11ms/step - loss: 0.1679 - accuracy: 0.9350 - val_loss: 0.3639 - val_accuracy: 0.8798\n",
      "Epoch 18/50\n",
      "282/282 [==============================] - 3s 11ms/step - loss: 0.1589 - accuracy: 0.9396 - val_loss: 0.3919 - val_accuracy: 0.8613\n",
      "Epoch 19/50\n",
      "282/282 [==============================] - 3s 11ms/step - loss: 0.1476 - accuracy: 0.9429 - val_loss: 0.3874 - val_accuracy: 0.8754\n",
      "Epoch 20/50\n",
      "282/282 [==============================] - 3s 11ms/step - loss: 0.1338 - accuracy: 0.9484 - val_loss: 0.3714 - val_accuracy: 0.8797\n",
      "Epoch 21/50\n",
      "282/282 [==============================] - 3s 11ms/step - loss: 0.1308 - accuracy: 0.9504 - val_loss: 0.4238 - val_accuracy: 0.8580\n",
      "Epoch 22/50\n",
      "282/282 [==============================] - 3s 11ms/step - loss: 0.1341 - accuracy: 0.9495 - val_loss: 0.7770 - val_accuracy: 0.7972\n",
      "Epoch 23/50\n",
      "282/282 [==============================] - 3s 11ms/step - loss: 0.1192 - accuracy: 0.9545 - val_loss: 0.4008 - val_accuracy: 0.8803\n",
      "Epoch 24/50\n",
      "282/282 [==============================] - 3s 11ms/step - loss: 0.1232 - accuracy: 0.9542 - val_loss: 0.4140 - val_accuracy: 0.8838\n",
      "Epoch 25/50\n",
      "282/282 [==============================] - 3s 11ms/step - loss: 0.1141 - accuracy: 0.9583 - val_loss: 0.4443 - val_accuracy: 0.8671\n",
      "Epoch 26/50\n",
      "282/282 [==============================] - 3s 11ms/step - loss: 0.1030 - accuracy: 0.9613 - val_loss: 0.4267 - val_accuracy: 0.8743\n",
      "Epoch 27/50\n",
      "282/282 [==============================] - 3s 11ms/step - loss: 0.0960 - accuracy: 0.9629 - val_loss: 0.4412 - val_accuracy: 0.8767\n",
      "Epoch 28/50\n",
      "282/282 [==============================] - 3s 11ms/step - loss: 0.1001 - accuracy: 0.9633 - val_loss: 0.5195 - val_accuracy: 0.8608\n",
      "Epoch 29/50\n",
      "282/282 [==============================] - 3s 11ms/step - loss: 0.0950 - accuracy: 0.9650 - val_loss: 0.5307 - val_accuracy: 0.8528\n",
      "Epoch 30/50\n",
      "282/282 [==============================] - 3s 11ms/step - loss: 0.0895 - accuracy: 0.9682 - val_loss: 0.4876 - val_accuracy: 0.8783\n",
      "Epoch 31/50\n",
      "282/282 [==============================] - 3s 11ms/step - loss: 0.0868 - accuracy: 0.9689 - val_loss: 0.5723 - val_accuracy: 0.8582\n",
      "Epoch 32/50\n",
      "282/282 [==============================] - 3s 11ms/step - loss: 0.0819 - accuracy: 0.9703 - val_loss: 0.4551 - val_accuracy: 0.8737\n",
      "Epoch 33/50\n",
      "282/282 [==============================] - 3s 11ms/step - loss: 0.0779 - accuracy: 0.9706 - val_loss: 0.8119 - val_accuracy: 0.8228\n",
      "Epoch 34/50\n",
      "282/282 [==============================] - 3s 11ms/step - loss: 0.0865 - accuracy: 0.9684 - val_loss: 0.5025 - val_accuracy: 0.8652\n",
      "Epoch 35/50\n",
      "282/282 [==============================] - 3s 11ms/step - loss: 0.0824 - accuracy: 0.9721 - val_loss: 0.5098 - val_accuracy: 0.8773\n",
      "Epoch 36/50\n",
      "282/282 [==============================] - 3s 11ms/step - loss: 0.0769 - accuracy: 0.9725 - val_loss: 0.5206 - val_accuracy: 0.8723\n",
      "Epoch 37/50\n",
      "282/282 [==============================] - 3s 11ms/step - loss: 0.0682 - accuracy: 0.9756 - val_loss: 0.4688 - val_accuracy: 0.8776\n",
      "Epoch 38/50\n",
      "282/282 [==============================] - 3s 11ms/step - loss: 0.0618 - accuracy: 0.9773 - val_loss: 0.5648 - val_accuracy: 0.8727\n",
      "Epoch 39/50\n",
      "282/282 [==============================] - 3s 10ms/step - loss: 0.0662 - accuracy: 0.9771 - val_loss: 0.5411 - val_accuracy: 0.8631\n",
      "Epoch 40/50\n",
      "282/282 [==============================] - 3s 11ms/step - loss: 0.0656 - accuracy: 0.9774 - val_loss: 0.5420 - val_accuracy: 0.8710\n",
      "Epoch 41/50\n",
      "282/282 [==============================] - 3s 11ms/step - loss: 0.0648 - accuracy: 0.9778 - val_loss: 0.5271 - val_accuracy: 0.8789\n",
      "Epoch 42/50\n",
      "282/282 [==============================] - 3s 11ms/step - loss: 0.0549 - accuracy: 0.9818 - val_loss: 0.5077 - val_accuracy: 0.8806\n",
      "Epoch 43/50\n",
      "282/282 [==============================] - 3s 11ms/step - loss: 0.0583 - accuracy: 0.9793 - val_loss: 0.5171 - val_accuracy: 0.8729\n",
      "Epoch 44/50\n",
      "282/282 [==============================] - 3s 11ms/step - loss: 0.0516 - accuracy: 0.9816 - val_loss: 0.6066 - val_accuracy: 0.8752\n",
      "Epoch 45/50\n",
      "282/282 [==============================] - 3s 11ms/step - loss: 0.0550 - accuracy: 0.9807 - val_loss: 0.6960 - val_accuracy: 0.8484\n",
      "Epoch 46/50\n",
      "282/282 [==============================] - 3s 11ms/step - loss: 0.0578 - accuracy: 0.9799 - val_loss: 0.5720 - val_accuracy: 0.8684\n",
      "Epoch 47/50\n",
      "282/282 [==============================] - 3s 11ms/step - loss: 0.0537 - accuracy: 0.9811 - val_loss: 0.6519 - val_accuracy: 0.8501\n",
      "Epoch 48/50\n",
      "282/282 [==============================] - 3s 11ms/step - loss: 0.0478 - accuracy: 0.9837 - val_loss: 0.7581 - val_accuracy: 0.8495\n",
      "Epoch 49/50\n",
      "282/282 [==============================] - 3s 11ms/step - loss: 0.0478 - accuracy: 0.9837 - val_loss: 0.7233 - val_accuracy: 0.8677\n",
      "Epoch 50/50\n",
      "282/282 [==============================] - 3s 11ms/step - loss: 0.0482 - accuracy: 0.9836 - val_loss: 0.5638 - val_accuracy: 0.8781\n"
     ]
    }
   ],
   "source": [
    "model = VGG()\n",
    "history = model.fit(x_train, y_train, epochs= 50 , batch_size=128, validation_data=(x_val, y_val))"
   ]
  },
  {
   "cell_type": "code",
   "execution_count": null,
   "metadata": {
    "colab": {
     "base_uri": "https://localhost:8080/",
     "height": 50
    },
    "id": "eKXzfHxmVY1b",
    "outputId": "f7fe251a-0396-4525-e5d8-f7df895c444c"
   },
   "outputs": [
    {
     "name": "stdout",
     "output_type": "stream",
     "text": [
      "375/375 - 1s - loss: 0.5677 - accuracy: 0.8759\n",
      "Test Accuracy: 0.8759166598320007\n"
     ]
    }
   ],
   "source": [
    "test_loss, test_acc = model.evaluate(x_test, y_test, verbose=2) #report performance metrics\n",
    "print('Test Accuracy:', test_acc)"
   ]
  },
  {
   "cell_type": "code",
   "execution_count": null,
   "metadata": {
    "colab": {
     "base_uri": "https://localhost:8080/",
     "height": 573
    },
    "id": "ie4rbx9fVY1g",
    "outputId": "2f63f6ed-d2cc-455b-e046-edf534394122"
   },
   "outputs": [
    {
     "data": {
      "image/png": "[encoded data removed]",
      "text/plain": [
       "<Figure size 432x288 with 1 Axes>"
      ]
     },
     "metadata": {
      "tags": []
     },
     "output_type": "display_data"
    },
    {
     "data": {
      "image/png": "[encoded data removed]",
      "text/plain": [
       "<Figure size 432x288 with 1 Axes>"
      ]
     },
     "metadata": {
      "tags": []
     },
     "output_type": "display_data"
    }
   ],
   "source": [
    "#Visualize the models accuracy\n",
    "plt.plot(history.history['accuracy'])\n",
    "plt.plot(history.history['val_accuracy'])\n",
    "plt.title('Model Accuracy')\n",
    "plt.ylabel('Accuracy')\n",
    "plt.xlabel('Epoch')\n",
    "plt.legend(['Training', 'Validation'], loc='lower right')\n",
    "plt.grid()\n",
    "plt.show()\n",
    "#Visualize the models loss\n",
    "plt.plot(history.history['loss'])\n",
    "plt.plot(history.history['val_loss'])\n",
    "plt.title('Model Loss')\n",
    "plt.ylabel('Loss')\n",
    "plt.xlabel('Epoch')\n",
    "plt.legend(['Training', 'Validation'], loc='upper right')\n",
    "plt.grid()\n",
    "plt.show()"
   ]
  },
  {
   "cell_type": "code",
   "execution_count": null,
   "metadata": {
    "colab": {
     "base_uri": "https://localhost:8080/",
     "height": 573
    },
    "id": "vzyJbcy4bXar",
    "outputId": "0b1fe779-b1f1-4fc3-f355-831274852c8f"
   },
   "outputs": [
    {
     "data": {
      "image/png": "[encoded data removed]",
      "text/plain": [
       "<Figure size 432x288 with 1 Axes>"
      ]
     },
     "metadata": {
      "tags": []
     },
     "output_type": "display_data"
    },
    {
     "data": {
      "image/png": "[encoded data removed]",
      "text/plain": [
       "<Figure size 432x288 with 1 Axes>"
      ]
     },
     "metadata": {
      "tags": []
     },
     "output_type": "display_data"
    }
   ],
   "source": [
    "#Plotting the validation accuracy vs the training accuracy\n",
    "plt.plot(history.history['accuracy'], history.history['val_accuracy'])\n",
    "plt.title('Validation accuracy vs Training accuracy')\n",
    "plt.ylabel('Validation accuracy')\n",
    "plt.xlabel('Training accuracy')\n",
    "plt.grid()\n",
    "plt.show()\n",
    "#Plotting the validation loss vs the training loss\n",
    "plt.plot(history.history['loss'], history.history['val_loss'])\n",
    "plt.title('Validation loss vs Training loss')\n",
    "plt.ylabel('Validation loss')\n",
    "plt.xlabel('Training loss')\n",
    "plt.grid()\n",
    "plt.show()"
   ]
  },
  {
   "cell_type": "markdown",
   "metadata": {
    "id": "KRvch8pbVY1j"
   },
   "source": [
    "#### Inception Model"
   ]
  },
  {
   "cell_type": "code",
   "execution_count": null,
   "metadata": {
    "id": "XnIi3qkAVY1j"
   },
   "outputs": [],
   "source": [
    "def inception_block(input_layer,f1,f21,f22,f31,f32,f4):\n",
    "    \n",
    "    branch_1 = Conv2D(f1, (1,1), padding='same', activation='relu')(input_layer)\n",
    "    \n",
    "    branch_2 = Conv2D(f21, (1,1), padding='same', activation='relu')(input_layer)\n",
    "    branch_2 = Conv2D(f22, (3,3), padding='same', activation='relu')(branch_2)\n",
    "\n",
    "    branch_3 = Conv2D(f31, (1,1), padding='same', activation='relu')(input_layer)\n",
    "    branch_3 = Conv2D(f32, (5,5), padding='same', activation='relu')(branch_3)\n",
    "    \n",
    "    branch_4 = MaxPooling2D((3,3), padding='same', strides=(1,1))(input_layer)\n",
    "    branch_4 = Conv2D(f4, (1,1), padding='same', activation='relu')(branch_4)  \n",
    "    \n",
    "    output_layer = concatenate([branch_1, branch_2, branch_3, branch_4], axis=3)\n",
    "    \n",
    "    return output_layer"
   ]
  },
  {
   "cell_type": "code",
   "execution_count": null,
   "metadata": {
    "id": "EdH6_WJhVY1m"
   },
   "outputs": [],
   "source": [
    "def inception_model():\n",
    "    # Input \n",
    "    input_shape = Input(shape = (28,28,1))\n",
    "    \n",
    "    # Stage 1: convolutional layers and max pooling layers\n",
    "    x = Conv2D(32, (3,3), padding='same', strides=(2, 2), activation='relu')(input_shape)\n",
    "    x = BatchNormalization()(x)\n",
    "    x = MaxPooling2D((2,2), padding='same', strides=(2, 2))(x)\n",
    "    x = Conv2D(32, (1,1), padding='same', strides=(1, 1), activation='relu')(input_shape)\n",
    "    x = BatchNormalization()(x)\n",
    "    x = Conv2D(96, (3,3), padding='same', strides=(1, 1), activation='relu')(input_shape)\n",
    "    x = BatchNormalization()(x)\n",
    "    x = MaxPooling2D((2,2), padding='same', strides=(2, 2))(x)\n",
    "    \n",
    "    # Stage 2: Two inception blocks and average pooling\n",
    "    x = inception_block(x, 64, 96, 128, 16, 32, 32)\n",
    "    x = inception_block(x, 128, 128, 192, 32, 96, 64)\n",
    "    x = AveragePooling2D((3, 3), padding='same', strides=2)(x)\n",
    "    x = Flatten()(x)\n",
    "    \n",
    "    # Stage 3: Fully connected layer with 0.5 deopout and output layer\n",
    "    x = Dense(1024, activation='relu')(x)\n",
    "    x = Dropout(0.5)(x)\n",
    "    x = Dense(5)(x)\n",
    "    output = Activation('softmax')(x)\n",
    "    model = Model([input_shape],output)\n",
    "    \n",
    "    model.compile(optimizer='adam',loss='categorical_crossentropy',metrics=['accuracy'])\n",
    "    \n",
    "    return model"
   ]
  },
  {
   "cell_type": "code",
   "execution_count": null,
   "metadata": {
    "id": "tgg8x8mtvF5m"
   },
   "outputs": [],
   "source": [
    "model = inception_model()\n",
    "model.summary()"
   ]
  },
  {
   "cell_type": "code",
   "execution_count": null,
   "metadata": {
    "colab": {
     "base_uri": "https://localhost:8080/",
     "height": 857
    },
    "id": "lZYYugWVVY1r",
    "outputId": "5cbab894-f1f1-4d07-b68a-52ea86658217"
   },
   "outputs": [
    {
     "name": "stdout",
     "output_type": "stream",
     "text": [
      "Epoch 1/25\n",
      "282/282 [==============================] - 19s 66ms/step - loss: 0.7642 - accuracy: 0.7243 - val_loss: 1.1114 - val_accuracy: 0.5182\n",
      "Epoch 2/25\n",
      "282/282 [==============================] - 18s 65ms/step - loss: 0.4467 - accuracy: 0.8173 - val_loss: 0.6690 - val_accuracy: 0.6961\n",
      "Epoch 3/25\n",
      "282/282 [==============================] - 18s 66ms/step - loss: 0.3996 - accuracy: 0.8367 - val_loss: 0.3454 - val_accuracy: 0.8637\n",
      "Epoch 4/25\n",
      "282/282 [==============================] - 19s 66ms/step - loss: 0.3648 - accuracy: 0.8509 - val_loss: 0.3205 - val_accuracy: 0.8717\n",
      "Epoch 5/25\n",
      "282/282 [==============================] - 19s 66ms/step - loss: 0.3323 - accuracy: 0.8636 - val_loss: 0.3120 - val_accuracy: 0.8726\n",
      "Epoch 6/25\n",
      "282/282 [==============================] - 19s 66ms/step - loss: 0.3126 - accuracy: 0.8718 - val_loss: 0.2985 - val_accuracy: 0.8813\n",
      "Epoch 7/25\n",
      "282/282 [==============================] - 18s 65ms/step - loss: 0.2900 - accuracy: 0.8831 - val_loss: 0.4094 - val_accuracy: 0.8338\n",
      "Epoch 8/25\n",
      "282/282 [==============================] - 18s 65ms/step - loss: 0.2688 - accuracy: 0.8899 - val_loss: 0.2833 - val_accuracy: 0.8868\n",
      "Epoch 9/25\n",
      "282/282 [==============================] - 18s 65ms/step - loss: 0.2509 - accuracy: 0.8988 - val_loss: 0.3030 - val_accuracy: 0.8788\n",
      "Epoch 10/25\n",
      "282/282 [==============================] - 18s 65ms/step - loss: 0.2403 - accuracy: 0.9034 - val_loss: 0.2733 - val_accuracy: 0.8924\n",
      "Epoch 11/25\n",
      "282/282 [==============================] - 18s 64ms/step - loss: 0.2255 - accuracy: 0.9091 - val_loss: 0.3047 - val_accuracy: 0.8788\n",
      "Epoch 12/25\n",
      "282/282 [==============================] - 18s 65ms/step - loss: 0.2214 - accuracy: 0.9091 - val_loss: 0.3266 - val_accuracy: 0.8719\n",
      "Epoch 13/25\n",
      "282/282 [==============================] - 18s 65ms/step - loss: 0.2103 - accuracy: 0.9139 - val_loss: 0.3184 - val_accuracy: 0.8779\n",
      "Epoch 14/25\n",
      "282/282 [==============================] - 18s 65ms/step - loss: 0.1860 - accuracy: 0.9255 - val_loss: 0.3017 - val_accuracy: 0.8867\n",
      "Epoch 15/25\n",
      "282/282 [==============================] - 18s 64ms/step - loss: 0.1726 - accuracy: 0.9319 - val_loss: 0.2976 - val_accuracy: 0.8915\n",
      "Epoch 16/25\n",
      "282/282 [==============================] - 18s 64ms/step - loss: 0.1696 - accuracy: 0.9318 - val_loss: 0.3315 - val_accuracy: 0.8857\n",
      "Epoch 17/25\n",
      "282/282 [==============================] - 18s 64ms/step - loss: 0.1551 - accuracy: 0.9385 - val_loss: 0.3390 - val_accuracy: 0.8844\n",
      "Epoch 18/25\n",
      "282/282 [==============================] - 18s 65ms/step - loss: 0.1401 - accuracy: 0.9447 - val_loss: 0.3378 - val_accuracy: 0.8869\n",
      "Epoch 19/25\n",
      "282/282 [==============================] - 18s 64ms/step - loss: 0.1283 - accuracy: 0.9494 - val_loss: 0.3489 - val_accuracy: 0.8765\n",
      "Epoch 20/25\n",
      "282/282 [==============================] - 18s 65ms/step - loss: 0.1205 - accuracy: 0.9525 - val_loss: 0.4621 - val_accuracy: 0.8597\n",
      "Epoch 21/25\n",
      "282/282 [==============================] - 18s 64ms/step - loss: 0.1196 - accuracy: 0.9537 - val_loss: 0.3561 - val_accuracy: 0.8874\n",
      "Epoch 22/25\n",
      "282/282 [==============================] - 18s 64ms/step - loss: 0.1102 - accuracy: 0.9574 - val_loss: 0.3868 - val_accuracy: 0.8863\n",
      "Epoch 23/25\n",
      "282/282 [==============================] - 18s 64ms/step - loss: 0.1039 - accuracy: 0.9587 - val_loss: 0.4122 - val_accuracy: 0.8776\n",
      "Epoch 24/25\n",
      "282/282 [==============================] - 18s 64ms/step - loss: 0.0943 - accuracy: 0.9643 - val_loss: 0.4160 - val_accuracy: 0.8772\n",
      "Epoch 25/25\n",
      "282/282 [==============================] - 18s 64ms/step - loss: 0.0911 - accuracy: 0.9661 - val_loss: 0.4094 - val_accuracy: 0.8908\n"
     ]
    }
   ],
   "source": [
    "model = inception_model()\n",
    "history = model.fit(x_train, y_train, epochs= 25, batch_size=128, validation_data=(x_val, y_val))"
   ]
  },
  {
   "cell_type": "code",
   "execution_count": null,
   "metadata": {
    "colab": {
     "base_uri": "https://localhost:8080/",
     "height": 34
    },
    "id": "2weLtwgP2lj_",
    "outputId": "132947b0-c616-481f-cf37-79114ea83403"
   },
   "outputs": [
    {
     "name": "stdout",
     "output_type": "stream",
     "text": [
      "282/282 [==============================] - 18s 64ms/step - loss: 0.0866 - accuracy: 0.9669 - val_loss: 0.4285 - val_accuracy: 0.8856\n"
     ]
    }
   ],
   "source": [
    "history = model.fit(x_train, y_train, epochs= 1, batch_size=128, validation_data=(x_val, y_val))"
   ]
  },
  {
   "cell_type": "code",
   "execution_count": null,
   "metadata": {
    "colab": {
     "base_uri": "https://localhost:8080/",
     "height": 34
    },
    "id": "tfnoClT8VY1t",
    "outputId": "842eb8bd-d912-4a3d-fc3a-fa6cff93655e"
   },
   "outputs": [
    {
     "name": "stdout",
     "output_type": "stream",
     "text": [
      "375/375 - 3s - loss: 0.4351 - accuracy: 0.8814\n"
     ]
    }
   ],
   "source": [
    "test_loss, test_acc = model.evaluate(x_test, y_test, verbose=2) #report performance metrics"
   ]
  },
  {
   "cell_type": "code",
   "execution_count": null,
   "metadata": {
    "colab": {
     "base_uri": "https://localhost:8080/",
     "height": 573
    },
    "id": "FMgG9k2SVY14",
    "outputId": "4a41ef2c-9d30-462c-fcf7-99291fd88309"
   },
   "outputs": [
    {
     "data": {
      "image/png": "[encoded data removed]",
      "text/plain": [
       "<Figure size 432x288 with 1 Axes>"
      ]
     },
     "metadata": {
      "tags": []
     },
     "output_type": "display_data"
    },
    {
     "data": {
      "image/png": "[encoded data removed]",
      "text/plain": [
       "<Figure size 432x288 with 1 Axes>"
      ]
     },
     "metadata": {
      "tags": []
     },
     "output_type": "display_data"
    }
   ],
   "source": [
    "#Visualize the models accuracy\n",
    "plt.plot(history.history['accuracy'])\n",
    "plt.plot(history.history['val_accuracy'])\n",
    "plt.title('Model Accuracy')\n",
    "plt.ylabel('Accuracy')\n",
    "plt.xlabel('Epoch')\n",
    "plt.legend(['Training', 'Validation'], loc='lower right')\n",
    "plt.grid()\n",
    "plt.show()\n",
    "#Visualize the models loss\n",
    "plt.plot(history.history['loss'])\n",
    "plt.plot(history.history['val_loss'])\n",
    "plt.title('Model Loss')\n",
    "plt.ylabel('Loss')\n",
    "plt.xlabel('Epoch')\n",
    "plt.legend(['Training', 'Validation'], loc='upper right')\n",
    "plt.grid()\n",
    "plt.show()"
   ]
  },
  {
   "cell_type": "code",
   "execution_count": null,
   "metadata": {
    "colab": {
     "base_uri": "https://localhost:8080/",
     "height": 573
    },
    "id": "mdRN1onZz8cj",
    "outputId": "902eb3d9-6a3b-4e54-e888-46af7ccf9474"
   },
   "outputs": [
    {
     "data": {
      "image/png": "[encoded data removed]",
      "text/plain": [
       "<Figure size 432x288 with 1 Axes>"
      ]
     },
     "metadata": {
      "tags": []
     },
     "output_type": "display_data"
    },
    {
     "data": {
      "image/png": "[encoded data removed]",
      "text/plain": [
       "<Figure size 432x288 with 1 Axes>"
      ]
     },
     "metadata": {
      "tags": []
     },
     "output_type": "display_data"
    }
   ],
   "source": [
    "#Plotting the validation accuracy vs the training accuracy\n",
    "plt.plot(history.history['accuracy'], history.history['val_accuracy'])\n",
    "plt.title('Validation accuracy vs Training accuracy')\n",
    "plt.ylabel('Validation accuracy')\n",
    "plt.xlabel('Training accuracy')\n",
    "plt.grid()\n",
    "plt.show()\n",
    "#Plotting the validation loss vs the training loss\n",
    "plt.plot(history.history['loss'], history.history['val_loss'])\n",
    "plt.title('Validation loss vs Training loss')\n",
    "plt.ylabel('Validation loss')\n",
    "plt.xlabel('Training loss')\n",
    "plt.grid()\n",
    "plt.show()"
   ]
  },
  {
   "cell_type": "markdown",
   "metadata": {
    "id": "qptYZWY3VY16"
   },
   "source": [
    "#### Resnet"
   ]
  },
  {
   "cell_type": "code",
   "execution_count": null,
   "metadata": {
    "id": "dVsA3_s7VY17"
   },
   "outputs": [],
   "source": [
    "def residual_block(input_layer,filt_num):\n",
    "    # Input layer which will be merged with the last layer\n",
    "    merge_input = input_layer\n",
    "    # check if the number of filters in the input layer are equal to the number of filters in last layer\n",
    "    if input_layer.shape[-1] != filt_num:\n",
    "        # Pass the input through a 1x1 convolutional layer with number of filters equal to the last layer\n",
    "        merge_input = Conv2D(filt_num, (1,1), padding='same')(input_layer)\n",
    "        merge_input = BatchNormalization()(merge_input)\n",
    "    # Layer 1\n",
    "    x = Conv2D(filt_num, (3,3), padding='same')(input_layer)\n",
    "    x = BatchNormalization()(x)    \n",
    "    x = Activation('relu')(x)\n",
    "    # Layer 2\n",
    "    x = Conv2D(filt_num, (3,3), padding='same')(x)\n",
    "    x = BatchNormalization()(x)    \n",
    "    x = Activation('relu')(x)\n",
    "    # Layer 3\n",
    "    x = Conv2D(filt_num, (3,3), padding='same')(x)\n",
    "    x = BatchNormalization()(x)\n",
    "    # Add the input layer to the last layer\n",
    "    output_layer = add([x, merge_input])\n",
    "    # Apply the activation function after adding both layers\n",
    "    output_layer = Activation('relu')(output_layer)\n",
    "    return output_layer"
   ]
  },
  {
   "cell_type": "code",
   "execution_count": null,
   "metadata": {
    "id": "y2gCd1skVY19"
   },
   "outputs": [],
   "source": [
    "def residual_model():\n",
    "\n",
    "    input_shape = Input(shape = (28,28,1))\n",
    "    # Stage 1: Convolutional layers, batch normalization, and max pooling\n",
    "    x = Conv2D(32, (3, 3), padding='same')(input_shape)\n",
    "    x = BatchNormalization()(x)\n",
    "    x = Activation('relu')(x)\n",
    "    x = MaxPooling2D((2, 2), padding='same')(x)\n",
    "\n",
    "    x = Conv2D(32, (3, 3), padding='same')(input_shape)\n",
    "    x = BatchNormalization()(x)\n",
    "    x = Activation('relu')(x)\n",
    "    x = MaxPooling2D((2, 2), padding='same')(x)\n",
    "\n",
    "    x = Conv2D(32, (3, 3), padding='same')(input_shape)\n",
    "    x = BatchNormalization()(x)\n",
    "    x = Activation('relu')(x)\n",
    "    x = MaxPooling2D((2, 2), padding='same')(x)\n",
    "\n",
    "    # Stage 2: residual blocks and average pooling\n",
    "    x = residual_block(x, 32)\n",
    "    x = residual_block(x, 64)\n",
    "\n",
    "    x = AveragePooling2D((3,3), padding='same')(x)    \n",
    "    \n",
    "    x = Flatten()(x)\n",
    "    \n",
    "    # Stage 3: Fully connected and outputl layer\n",
    "    x = Dense(1024, activation='relu')(x)\n",
    "    x = Dropout(0.5)(x)\n",
    "    x = Dense(5)(x)\n",
    "    output = Activation('softmax')(x)\n",
    "    \n",
    "    model = Model([input_shape],output)\n",
    "    \n",
    "    model.compile(optimizer='adam',loss='categorical_crossentropy',metrics=['accuracy'])\n",
    "    \n",
    "    return model"
   ]
  },
  {
   "cell_type": "code",
   "execution_count": null,
   "metadata": {
    "id": "EPRPyTszgHug"
   },
   "outputs": [],
   "source": []
  },
  {
   "cell_type": "code",
   "execution_count": null,
   "metadata": {
    "colab": {
     "base_uri": "https://localhost:8080/",
     "height": 689
    },
    "id": "YbXHX7ZyVY2C",
    "outputId": "e81f0ab4-e7ae-48e7-9b81-03a9dbda2b96"
   },
   "outputs": [
    {
     "name": "stdout",
     "output_type": "stream",
     "text": [
      "Epoch 1/20\n",
      "282/282 [==============================] - 19s 66ms/step - loss: 0.7553 - accuracy: 0.7398 - val_loss: 0.8595 - val_accuracy: 0.6202\n",
      "Epoch 2/20\n",
      "282/282 [==============================] - 18s 64ms/step - loss: 0.4400 - accuracy: 0.8230 - val_loss: 0.4607 - val_accuracy: 0.7965\n",
      "Epoch 3/20\n",
      "282/282 [==============================] - 18s 64ms/step - loss: 0.3878 - accuracy: 0.8418 - val_loss: 0.3676 - val_accuracy: 0.8490\n",
      "Epoch 4/20\n",
      "282/282 [==============================] - 18s 64ms/step - loss: 0.3606 - accuracy: 0.8548 - val_loss: 0.4734 - val_accuracy: 0.8034\n",
      "Epoch 5/20\n",
      "282/282 [==============================] - 18s 64ms/step - loss: 0.3338 - accuracy: 0.8643 - val_loss: 0.3394 - val_accuracy: 0.8567\n",
      "Epoch 6/20\n",
      "282/282 [==============================] - 18s 64ms/step - loss: 0.3165 - accuracy: 0.8712 - val_loss: 0.3464 - val_accuracy: 0.8562\n",
      "Epoch 7/20\n",
      "282/282 [==============================] - 18s 63ms/step - loss: 0.2921 - accuracy: 0.8829 - val_loss: 0.3175 - val_accuracy: 0.8695\n",
      "Epoch 8/20\n",
      "282/282 [==============================] - 18s 64ms/step - loss: 0.2748 - accuracy: 0.8875 - val_loss: 0.3274 - val_accuracy: 0.8757\n",
      "Epoch 9/20\n",
      "282/282 [==============================] - 18s 65ms/step - loss: 0.2762 - accuracy: 0.8868 - val_loss: 0.2923 - val_accuracy: 0.8819\n",
      "Epoch 10/20\n",
      "282/282 [==============================] - 18s 65ms/step - loss: 0.2544 - accuracy: 0.8971 - val_loss: 0.3221 - val_accuracy: 0.8626\n",
      "Epoch 11/20\n",
      "282/282 [==============================] - 18s 65ms/step - loss: 0.2401 - accuracy: 0.9021 - val_loss: 0.3125 - val_accuracy: 0.8702\n",
      "Epoch 12/20\n",
      "282/282 [==============================] - 18s 65ms/step - loss: 0.2291 - accuracy: 0.9079 - val_loss: 0.3607 - val_accuracy: 0.8584\n",
      "Epoch 13/20\n",
      "282/282 [==============================] - 18s 65ms/step - loss: 0.2136 - accuracy: 0.9136 - val_loss: 0.3493 - val_accuracy: 0.8596\n",
      "Epoch 14/20\n",
      "282/282 [==============================] - 18s 64ms/step - loss: 0.2065 - accuracy: 0.9171 - val_loss: 0.3644 - val_accuracy: 0.8522\n",
      "Epoch 15/20\n",
      "282/282 [==============================] - 18s 65ms/step - loss: 0.1968 - accuracy: 0.9211 - val_loss: 0.3543 - val_accuracy: 0.8642\n",
      "Epoch 16/20\n",
      "282/282 [==============================] - 18s 64ms/step - loss: 0.1833 - accuracy: 0.9254 - val_loss: 0.3827 - val_accuracy: 0.8577\n",
      "Epoch 17/20\n",
      "282/282 [==============================] - 18s 64ms/step - loss: 0.1634 - accuracy: 0.9353 - val_loss: 0.3363 - val_accuracy: 0.8770\n",
      "Epoch 18/20\n",
      "282/282 [==============================] - 18s 64ms/step - loss: 0.1589 - accuracy: 0.9370 - val_loss: 0.3400 - val_accuracy: 0.8736\n",
      "Epoch 19/20\n",
      "282/282 [==============================] - 18s 64ms/step - loss: 0.1422 - accuracy: 0.9442 - val_loss: 0.3301 - val_accuracy: 0.8819\n",
      "Epoch 20/20\n",
      "282/282 [==============================] - 18s 64ms/step - loss: 0.1362 - accuracy: 0.9463 - val_loss: 0.3362 - val_accuracy: 0.8842\n"
     ]
    }
   ],
   "source": [
    "model = residual_model()\n",
    "history = model.fit(x_train, y_train, epochs= 20, batch_size=128, validation_data=(x_val, y_val))"
   ]
  },
  {
   "cell_type": "code",
   "execution_count": null,
   "metadata": {
    "colab": {
     "base_uri": "https://localhost:8080/",
     "height": 521
    },
    "id": "FfmAm3ws3OBE",
    "outputId": "2c7a4eca-e798-4892-e3f2-1ce659c72b51"
   },
   "outputs": [
    {
     "name": "stdout",
     "output_type": "stream",
     "text": [
      "Epoch 1/15\n",
      "141/141 [==============================] - 17s 119ms/step - loss: 0.0890 - accuracy: 0.9659 - val_loss: 0.3490 - val_accuracy: 0.8954\n",
      "Epoch 2/15\n",
      "141/141 [==============================] - 16s 115ms/step - loss: 0.0626 - accuracy: 0.9767 - val_loss: 0.4502 - val_accuracy: 0.8742\n",
      "Epoch 3/15\n",
      "141/141 [==============================] - 16s 115ms/step - loss: 0.0597 - accuracy: 0.9774 - val_loss: 0.4073 - val_accuracy: 0.8814\n",
      "Epoch 4/15\n",
      "141/141 [==============================] - 16s 115ms/step - loss: 0.0510 - accuracy: 0.9808 - val_loss: 0.3958 - val_accuracy: 0.8936\n",
      "Epoch 5/15\n",
      "141/141 [==============================] - 16s 115ms/step - loss: 0.0475 - accuracy: 0.9827 - val_loss: 0.4204 - val_accuracy: 0.8898\n",
      "Epoch 6/15\n",
      "141/141 [==============================] - 16s 115ms/step - loss: 0.0511 - accuracy: 0.9816 - val_loss: 0.4535 - val_accuracy: 0.8758\n",
      "Epoch 7/15\n",
      "141/141 [==============================] - 16s 115ms/step - loss: 0.0454 - accuracy: 0.9833 - val_loss: 0.4731 - val_accuracy: 0.8813\n",
      "Epoch 8/15\n",
      "141/141 [==============================] - 16s 115ms/step - loss: 0.0464 - accuracy: 0.9832 - val_loss: 0.4557 - val_accuracy: 0.8811\n",
      "Epoch 9/15\n",
      "141/141 [==============================] - 16s 115ms/step - loss: 0.0454 - accuracy: 0.9831 - val_loss: 0.5157 - val_accuracy: 0.8791\n",
      "Epoch 10/15\n",
      "141/141 [==============================] - 16s 115ms/step - loss: 0.0478 - accuracy: 0.9817 - val_loss: 0.4512 - val_accuracy: 0.8895\n",
      "Epoch 11/15\n",
      "141/141 [==============================] - 16s 116ms/step - loss: 0.0379 - accuracy: 0.9865 - val_loss: 0.4753 - val_accuracy: 0.8852\n",
      "Epoch 12/15\n",
      "141/141 [==============================] - 16s 116ms/step - loss: 0.0374 - accuracy: 0.9862 - val_loss: 0.4382 - val_accuracy: 0.8898\n",
      "Epoch 13/15\n",
      "141/141 [==============================] - 16s 116ms/step - loss: 0.0365 - accuracy: 0.9869 - val_loss: 0.5537 - val_accuracy: 0.8681\n",
      "Epoch 14/15\n",
      "141/141 [==============================] - 16s 115ms/step - loss: 0.0434 - accuracy: 0.9843 - val_loss: 0.4899 - val_accuracy: 0.8862\n",
      "Epoch 15/15\n",
      "141/141 [==============================] - 16s 115ms/step - loss: 0.0392 - accuracy: 0.9868 - val_loss: 0.4846 - val_accuracy: 0.8818\n"
     ]
    }
   ],
   "source": [
    "history = model.fit(x_train, y_train, epochs= 15, batch_size=256, validation_data=(x_val, y_val))"
   ]
  },
  {
   "cell_type": "code",
   "execution_count": null,
   "metadata": {
    "colab": {
     "base_uri": "https://localhost:8080/",
     "height": 353
    },
    "id": "w-FPMLcyxTCU",
    "outputId": "eb55a42a-cadc-493c-b2ab-4869c420036c"
   },
   "outputs": [
    {
     "name": "stdout",
     "output_type": "stream",
     "text": [
      "Epoch 1/10\n",
      "71/71 [==============================] - 2s 28ms/step - loss: 0.0554 - accuracy: 0.9796 - val_loss: 0.4664 - val_accuracy: 0.8834\n",
      "Epoch 2/10\n",
      "71/71 [==============================] - 2s 28ms/step - loss: 0.0474 - accuracy: 0.9830 - val_loss: 0.3599 - val_accuracy: 0.9044\n",
      "Epoch 3/10\n",
      "71/71 [==============================] - 2s 28ms/step - loss: 0.0397 - accuracy: 0.9857 - val_loss: 0.4552 - val_accuracy: 0.8924\n",
      "Epoch 4/10\n",
      "71/71 [==============================] - 2s 28ms/step - loss: 0.0335 - accuracy: 0.9889 - val_loss: 0.4542 - val_accuracy: 0.8953\n",
      "Epoch 5/10\n",
      "71/71 [==============================] - 2s 28ms/step - loss: 0.0336 - accuracy: 0.9884 - val_loss: 0.3936 - val_accuracy: 0.9025\n",
      "Epoch 6/10\n",
      "71/71 [==============================] - 2s 28ms/step - loss: 0.0347 - accuracy: 0.9877 - val_loss: 0.4383 - val_accuracy: 0.8997\n",
      "Epoch 7/10\n",
      "71/71 [==============================] - 2s 28ms/step - loss: 0.0336 - accuracy: 0.9880 - val_loss: 0.4319 - val_accuracy: 0.9018\n",
      "Epoch 8/10\n",
      "71/71 [==============================] - 2s 28ms/step - loss: 0.0329 - accuracy: 0.9883 - val_loss: 0.4397 - val_accuracy: 0.8973\n",
      "Epoch 9/10\n",
      "71/71 [==============================] - 2s 28ms/step - loss: 0.0303 - accuracy: 0.9894 - val_loss: 0.4940 - val_accuracy: 0.8961\n",
      "Epoch 10/10\n",
      "71/71 [==============================] - 2s 28ms/step - loss: 0.0333 - accuracy: 0.9883 - val_loss: 0.4300 - val_accuracy: 0.9013\n"
     ]
    }
   ],
   "source": [
    "history = model.fit(x_train, y_train, epochs= 10, batch_size=512, validation_data=(x_val, y_val))"
   ]
  },
  {
   "cell_type": "code",
   "execution_count": null,
   "metadata": {
    "colab": {
     "base_uri": "https://localhost:8080/",
     "height": 34
    },
    "id": "sZjws3ofVY2E",
    "outputId": "c3eb2357-8285-422a-c841-38be0f4b7207"
   },
   "outputs": [
    {
     "name": "stdout",
     "output_type": "stream",
     "text": [
      "375/375 - 3s - loss: 0.3261 - accuracy: 0.8872\n"
     ]
    }
   ],
   "source": [
    "test_loss, test_acc = model.evaluate(x_test, y_test, verbose=2) #report performance metrics #0.8670"
   ]
  },
  {
   "cell_type": "code",
   "execution_count": null,
   "metadata": {
    "colab": {
     "base_uri": "https://localhost:8080/",
     "height": 34
    },
    "id": "umgOJiCzVY2H",
    "outputId": "aaad7a73-726d-43b7-8f12-92aa6b4f9161"
   },
   "outputs": [
    {
     "name": "stdout",
     "output_type": "stream",
     "text": [
      "Test Accuracy: 0.893583357334137\n"
     ]
    }
   ],
   "source": [
    "print('Test Accuracy:', test_acc)"
   ]
  },
  {
   "cell_type": "code",
   "execution_count": null,
   "metadata": {
    "colab": {
     "base_uri": "https://localhost:8080/",
     "height": 573
    },
    "id": "wfWBw4hInaga",
    "outputId": "b169bc98-cd2b-471c-9c01-14ad3ddc3ae8"
   },
   "outputs": [
    {
     "data": {
      "image/png": "[encoded data removed]",
      "text/plain": [
       "<Figure size 432x288 with 1 Axes>"
      ]
     },
     "metadata": {
      "needs_background": "light",
      "tags": []
     },
     "output_type": "display_data"
    },
    {
     "data": {
      "image/png": "[encoded data removed]",
      "text/plain": [
       "<Figure size 432x288 with 1 Axes>"
      ]
     },
     "metadata": {
      "needs_background": "light",
      "tags": []
     },
     "output_type": "display_data"
    }
   ],
   "source": [
    "#Visualize the models accuracy\n",
    "plt.plot(history.history['accuracy'])\n",
    "plt.plot(history.history['val_accuracy'])\n",
    "plt.title('Model Accuracy')\n",
    "plt.ylabel('Accuracy')\n",
    "plt.xlabel('Epoch')\n",
    "plt.legend(['Training', 'Validation'], loc='lower right')\n",
    "plt.grid()\n",
    "plt.show()\n",
    "#Visualize the models loss\n",
    "plt.plot(history.history['loss'])\n",
    "plt.plot(history.history['val_loss'])\n",
    "plt.title('Model Loss')\n",
    "plt.ylabel('Loss')\n",
    "plt.xlabel('Epoch')\n",
    "plt.legend(['Training', 'Validation'], loc='upper right')\n",
    "plt.grid()\n",
    "plt.show()"
   ]
  },
  {
   "cell_type": "code",
   "execution_count": null,
   "metadata": {
    "colab": {
     "base_uri": "https://localhost:8080/",
     "height": 573
    },
    "id": "XsLGBXrSakis",
    "outputId": "f782a56b-6f86-4e6a-c5f8-01614dad349e"
   },
   "outputs": [
    {
     "data": {
      "image/png": "[encoded data removed]",
      "text/plain": [
       "<Figure size 432x288 with 1 Axes>"
      ]
     },
     "metadata": {
      "tags": []
     },
     "output_type": "display_data"
    },
    {
     "data": {
      "image/png": "[encoded data removed]",
      "text/plain": [
       "<Figure size 432x288 with 1 Axes>"
      ]
     },
     "metadata": {
      "tags": []
     },
     "output_type": "display_data"
    }
   ],
   "source": [
    "#Plotting the validation accuracy vs the training accuracy\n",
    "plt.plot(history.history['accuracy'], history.history['val_accuracy'])\n",
    "plt.title('Validation accuracy vs Training accuracy')\n",
    "plt.ylabel('Validation accuracy')\n",
    "plt.xlabel('Training accuracy')\n",
    "plt.grid()\n",
    "plt.show()\n",
    "#Plotting the validation loss vs the training loss\n",
    "plt.plot(history.history['loss'], history.history['val_loss'])\n",
    "plt.title('Validation loss vs Training loss')\n",
    "plt.ylabel('Validation loss')\n",
    "plt.xlabel('Training loss')\n",
    "plt.grid()\n",
    "plt.show()"
   ]
  },
  {
   "cell_type": "markdown",
   "metadata": {
    "id": "7uJtsTQ3mrNX"
   },
   "source": [
    "#### Testing new models"
   ]
  },
  {
   "cell_type": "code",
   "execution_count": null,
   "metadata": {
    "id": "StPKM7Zmmqbm"
   },
   "outputs": [],
   "source": [
    "def inception_residual_block(input_layer,f1,f21,f22,f31,f32,f4,f5):\n",
    "#merge_input = input_layer\n",
    "    merge_input = input_layer\n",
    "# check if the number of filters needs to be increase, assumes channels last format\n",
    "    if input_layer.shape[-1] != f5:\n",
    "        \n",
    "        merge_input = Conv2D(f5, (1,1), padding='same')(input_layer)\n",
    "        #merge_input = BatchNormalization()(merge_input)\n",
    "    \n",
    "    branch_1 = Conv2D(f1, (1,1), padding='same', activation='relu')(input_layer)\n",
    "    \n",
    "    branch_2 = Conv2D(f21, (1,1), padding='same', activation='relu')(input_layer)\n",
    "    branch_2 = Conv2D(f22, (3,3), padding='same', activation='relu')(branch_2)\n",
    "\n",
    "    branch_3 = Conv2D(f31, (1,1), padding='same', activation='relu')(input_layer)\n",
    "    branch_3 = Conv2D(f32, (5,5), padding='same', activation='relu')(branch_3)\n",
    "    \n",
    "    branch_4 = MaxPooling2D((3,3), padding='same', strides=(1,1))(input_layer)\n",
    "    branch_4 = Conv2D(f4, (1,1), padding='same', activation='relu')(branch_4)  \n",
    "    \n",
    "    concat_layer = concatenate([branch_1, branch_2, branch_3, branch_4], axis=3)\n",
    "    \n",
    "    concat_layer = Conv2D(f5, (1,1), padding='same', activation='relu')(concat_layer)\n",
    "\n",
    "    output_layer = add([concat_layer, merge_input])\n",
    "    # activation function\n",
    "    output_layer = Activation('relu')(output_layer)\n",
    "\n",
    "    return output_layer"
   ]
  },
  {
   "cell_type": "code",
   "execution_count": null,
   "metadata": {
    "id": "EnnHcj27m4o2"
   },
   "outputs": [],
   "source": [
    "def inception_residual_model():\n",
    "# Input \n",
    "    input_shape = Input(shape = (28,28,1))\n",
    "    x = Conv2D(32, (3, 3), padding='same')(input_shape)\n",
    "    x = BatchNormalization()(x)\n",
    "    x = Activation('relu')(x)\n",
    "    x = MaxPooling2D((2, 2), padding='same')(x)\n",
    "\n",
    "    x = Conv2D(32, (3, 3), padding='same')(input_shape)\n",
    "    x = BatchNormalization()(x)\n",
    "    x = Activation('relu')(x)\n",
    "    x = MaxPooling2D((2, 2), padding='same')(x)\n",
    "\n",
    "    x = inception_residual_block(x, 32, 16, 32, 16, 32, 16, 16)\n",
    "    x = inception_residual_block(x, 64, 32, 64, 32, 64, 32, 32)\n",
    "    #x = inception_residual_block(x, 64, 32, 64, 32, 64, 32, 32)\n",
    "\n",
    "    x = AveragePooling2D((3, 3), padding='same')(x)\n",
    "    x = Flatten()(x)\n",
    "\n",
    "    x = Dense(1024, activation='relu')(x)\n",
    "    x = Dropout(0.5)(x)\n",
    "    x = Dense(5)(x)\n",
    "    \n",
    "    output = Activation('softmax')(x)\n",
    "    \n",
    "    model = Model([input_shape],output)\n",
    "    \n",
    "    model.compile(optimizer='adam',loss='categorical_crossentropy',metrics=['accuracy'])\n",
    "\n",
    "\n",
    "    return model\n",
    "\n"
   ]
  },
  {
   "cell_type": "code",
   "execution_count": null,
   "metadata": {
    "colab": {
     "base_uri": "https://localhost:8080/",
     "height": 1000
    },
    "id": "tJinMUH0ZgLj",
    "outputId": "cfd8632e-a3d8-4e6c-9791-d00d4bcd964b"
   },
   "outputs": [
    {
     "name": "stdout",
     "output_type": "stream",
     "text": [
      "Model: \"model\"\n",
      "__________________________________________________________________________________________________\n",
      "Layer (type)                    Output Shape         Param #     Connected to                     \n",
      "==================================================================================================\n",
      "input_1 (InputLayer)            [(None, 28, 28, 1)]  0                                            \n",
      "__________________________________________________________________________________________________\n",
      "conv2d_1 (Conv2D)               (None, 28, 28, 32)   320         input_1[0][0]                    \n",
      "__________________________________________________________________________________________________\n",
      "batch_normalization_1 (BatchNor (None, 28, 28, 32)   128         conv2d_1[0][0]                   \n",
      "__________________________________________________________________________________________________\n",
      "activation_1 (Activation)       (None, 28, 28, 32)   0           batch_normalization_1[0][0]      \n",
      "__________________________________________________________________________________________________\n",
      "max_pooling2d_1 (MaxPooling2D)  (None, 14, 14, 32)   0           activation_1[0][0]               \n",
      "__________________________________________________________________________________________________\n",
      "conv2d_4 (Conv2D)               (None, 14, 14, 16)   528         max_pooling2d_1[0][0]            \n",
      "__________________________________________________________________________________________________\n",
      "conv2d_6 (Conv2D)               (None, 14, 14, 16)   528         max_pooling2d_1[0][0]            \n",
      "__________________________________________________________________________________________________\n",
      "max_pooling2d_2 (MaxPooling2D)  (None, 14, 14, 32)   0           max_pooling2d_1[0][0]            \n",
      "__________________________________________________________________________________________________\n",
      "conv2d_3 (Conv2D)               (None, 14, 14, 32)   1056        max_pooling2d_1[0][0]            \n",
      "__________________________________________________________________________________________________\n",
      "conv2d_5 (Conv2D)               (None, 14, 14, 32)   4640        conv2d_4[0][0]                   \n",
      "__________________________________________________________________________________________________\n",
      "conv2d_7 (Conv2D)               (None, 14, 14, 32)   12832       conv2d_6[0][0]                   \n",
      "__________________________________________________________________________________________________\n",
      "conv2d_8 (Conv2D)               (None, 14, 14, 16)   528         max_pooling2d_2[0][0]            \n",
      "__________________________________________________________________________________________________\n",
      "concatenate (Concatenate)       (None, 14, 14, 112)  0           conv2d_3[0][0]                   \n",
      "                                                                 conv2d_5[0][0]                   \n",
      "                                                                 conv2d_7[0][0]                   \n",
      "                                                                 conv2d_8[0][0]                   \n",
      "__________________________________________________________________________________________________\n",
      "conv2d_9 (Conv2D)               (None, 14, 14, 16)   1808        concatenate[0][0]                \n",
      "__________________________________________________________________________________________________\n",
      "conv2d_2 (Conv2D)               (None, 14, 14, 16)   528         max_pooling2d_1[0][0]            \n",
      "__________________________________________________________________________________________________\n",
      "add (Add)                       (None, 14, 14, 16)   0           conv2d_9[0][0]                   \n",
      "                                                                 conv2d_2[0][0]                   \n",
      "__________________________________________________________________________________________________\n",
      "activation_2 (Activation)       (None, 14, 14, 16)   0           add[0][0]                        \n",
      "__________________________________________________________________________________________________\n",
      "conv2d_12 (Conv2D)              (None, 14, 14, 32)   544         activation_2[0][0]               \n",
      "__________________________________________________________________________________________________\n",
      "conv2d_14 (Conv2D)              (None, 14, 14, 32)   544         activation_2[0][0]               \n",
      "__________________________________________________________________________________________________\n",
      "max_pooling2d_3 (MaxPooling2D)  (None, 14, 14, 16)   0           activation_2[0][0]               \n",
      "__________________________________________________________________________________________________\n",
      "conv2d_11 (Conv2D)              (None, 14, 14, 64)   1088        activation_2[0][0]               \n",
      "__________________________________________________________________________________________________\n",
      "conv2d_13 (Conv2D)              (None, 14, 14, 64)   18496       conv2d_12[0][0]                  \n",
      "__________________________________________________________________________________________________\n",
      "conv2d_15 (Conv2D)              (None, 14, 14, 64)   51264       conv2d_14[0][0]                  \n",
      "__________________________________________________________________________________________________\n",
      "conv2d_16 (Conv2D)              (None, 14, 14, 32)   544         max_pooling2d_3[0][0]            \n",
      "__________________________________________________________________________________________________\n",
      "concatenate_1 (Concatenate)     (None, 14, 14, 224)  0           conv2d_11[0][0]                  \n",
      "                                                                 conv2d_13[0][0]                  \n",
      "                                                                 conv2d_15[0][0]                  \n",
      "                                                                 conv2d_16[0][0]                  \n",
      "__________________________________________________________________________________________________\n",
      "conv2d_17 (Conv2D)              (None, 14, 14, 32)   7200        concatenate_1[0][0]              \n",
      "__________________________________________________________________________________________________\n",
      "conv2d_10 (Conv2D)              (None, 14, 14, 32)   544         activation_2[0][0]               \n",
      "__________________________________________________________________________________________________\n",
      "add_1 (Add)                     (None, 14, 14, 32)   0           conv2d_17[0][0]                  \n",
      "                                                                 conv2d_10[0][0]                  \n",
      "__________________________________________________________________________________________________\n",
      "activation_3 (Activation)       (None, 14, 14, 32)   0           add_1[0][0]                      \n",
      "__________________________________________________________________________________________________\n",
      "average_pooling2d (AveragePooli (None, 5, 5, 32)     0           activation_3[0][0]               \n",
      "__________________________________________________________________________________________________\n",
      "flatten (Flatten)               (None, 800)          0           average_pooling2d[0][0]          \n",
      "__________________________________________________________________________________________________\n",
      "dense (Dense)                   (None, 1024)         820224      flatten[0][0]                    \n",
      "__________________________________________________________________________________________________\n",
      "dropout (Dropout)               (None, 1024)         0           dense[0][0]                      \n",
      "__________________________________________________________________________________________________\n",
      "dense_1 (Dense)                 (None, 5)            5125        dropout[0][0]                    \n",
      "__________________________________________________________________________________________________\n",
      "activation_4 (Activation)       (None, 5)            0           dense_1[0][0]                    \n",
      "==================================================================================================\n",
      "Total params: 928,469\n",
      "Trainable params: 928,405\n",
      "Non-trainable params: 64\n",
      "__________________________________________________________________________________________________\n"
     ]
    }
   ],
   "source": [
    "model = inception_residual_model()\n",
    "model.summary()"
   ]
  },
  {
   "cell_type": "code",
   "execution_count": null,
   "metadata": {
    "colab": {
     "base_uri": "https://localhost:8080/",
     "height": 857
    },
    "id": "7RcO0uryRaF0",
    "outputId": "1e1654fc-b72a-49f6-e43c-932277830aa5"
   },
   "outputs": [
    {
     "name": "stdout",
     "output_type": "stream",
     "text": [
      "Epoch 1/25\n",
      "282/282 [==============================] - 8s 28ms/step - loss: 0.8550 - accuracy: 0.7007 - val_loss: 0.7176 - val_accuracy: 0.6851\n",
      "Epoch 2/25\n",
      "282/282 [==============================] - 8s 27ms/step - loss: 0.4858 - accuracy: 0.8021 - val_loss: 0.4500 - val_accuracy: 0.8131\n",
      "Epoch 3/25\n",
      "282/282 [==============================] - 8s 27ms/step - loss: 0.4317 - accuracy: 0.8233 - val_loss: 0.4009 - val_accuracy: 0.8337\n",
      "Epoch 4/25\n",
      "282/282 [==============================] - 8s 27ms/step - loss: 0.3921 - accuracy: 0.8387 - val_loss: 0.4047 - val_accuracy: 0.8307\n",
      "Epoch 5/25\n",
      "282/282 [==============================] - 8s 27ms/step - loss: 0.3566 - accuracy: 0.8553 - val_loss: 0.3694 - val_accuracy: 0.8485\n",
      "Epoch 6/25\n",
      "282/282 [==============================] - 7s 27ms/step - loss: 0.3292 - accuracy: 0.8656 - val_loss: 0.3374 - val_accuracy: 0.8629\n",
      "Epoch 7/25\n",
      "282/282 [==============================] - 8s 27ms/step - loss: 0.2994 - accuracy: 0.8788 - val_loss: 0.3543 - val_accuracy: 0.8537\n",
      "Epoch 8/25\n",
      "282/282 [==============================] - 8s 27ms/step - loss: 0.2781 - accuracy: 0.8868 - val_loss: 0.3525 - val_accuracy: 0.8531\n",
      "Epoch 9/25\n",
      "282/282 [==============================] - 8s 27ms/step - loss: 0.2648 - accuracy: 0.8929 - val_loss: 0.3543 - val_accuracy: 0.8599\n",
      "Epoch 10/25\n",
      "282/282 [==============================] - 8s 27ms/step - loss: 0.2470 - accuracy: 0.9000 - val_loss: 0.3596 - val_accuracy: 0.8648\n",
      "Epoch 11/25\n",
      "282/282 [==============================] - 8s 27ms/step - loss: 0.2154 - accuracy: 0.9155 - val_loss: 0.3702 - val_accuracy: 0.8616\n",
      "Epoch 12/25\n",
      "282/282 [==============================] - 8s 27ms/step - loss: 0.2039 - accuracy: 0.9197 - val_loss: 0.3609 - val_accuracy: 0.8683\n",
      "Epoch 13/25\n",
      "282/282 [==============================] - 7s 27ms/step - loss: 0.1920 - accuracy: 0.9236 - val_loss: 0.3712 - val_accuracy: 0.8599\n",
      "Epoch 14/25\n",
      "282/282 [==============================] - 8s 27ms/step - loss: 0.1727 - accuracy: 0.9333 - val_loss: 0.3677 - val_accuracy: 0.8706\n",
      "Epoch 15/25\n",
      "282/282 [==============================] - 8s 27ms/step - loss: 0.1556 - accuracy: 0.9383 - val_loss: 0.4070 - val_accuracy: 0.8562\n",
      "Epoch 16/25\n",
      "282/282 [==============================] - 8s 27ms/step - loss: 0.1530 - accuracy: 0.9412 - val_loss: 0.4720 - val_accuracy: 0.8506\n",
      "Epoch 17/25\n",
      "282/282 [==============================] - 8s 27ms/step - loss: 0.1376 - accuracy: 0.9468 - val_loss: 0.4512 - val_accuracy: 0.8559\n",
      "Epoch 18/25\n",
      "282/282 [==============================] - 8s 27ms/step - loss: 0.1258 - accuracy: 0.9519 - val_loss: 0.4257 - val_accuracy: 0.8604\n",
      "Epoch 19/25\n",
      "282/282 [==============================] - 8s 27ms/step - loss: 0.1154 - accuracy: 0.9557 - val_loss: 0.4731 - val_accuracy: 0.8530\n",
      "Epoch 20/25\n",
      "282/282 [==============================] - 8s 27ms/step - loss: 0.1000 - accuracy: 0.9619 - val_loss: 0.4763 - val_accuracy: 0.8642\n",
      "Epoch 21/25\n",
      "282/282 [==============================] - 8s 27ms/step - loss: 0.1041 - accuracy: 0.9602 - val_loss: 0.4720 - val_accuracy: 0.8601\n",
      "Epoch 22/25\n",
      "282/282 [==============================] - 7s 27ms/step - loss: 0.0939 - accuracy: 0.9644 - val_loss: 0.5047 - val_accuracy: 0.8570\n",
      "Epoch 23/25\n",
      "282/282 [==============================] - 7s 27ms/step - loss: 0.0897 - accuracy: 0.9653 - val_loss: 0.5167 - val_accuracy: 0.8632\n",
      "Epoch 24/25\n",
      "282/282 [==============================] - 8s 27ms/step - loss: 0.0837 - accuracy: 0.9690 - val_loss: 0.4987 - val_accuracy: 0.8612\n",
      "Epoch 25/25\n",
      "282/282 [==============================] - 8s 27ms/step - loss: 0.0793 - accuracy: 0.9704 - val_loss: 0.5630 - val_accuracy: 0.8540\n"
     ]
    }
   ],
   "source": [
    "model = inception_residual_model()\n",
    "history = model.fit(x_train, y_train, epochs= 25, batch_size=128, validation_data=(x_val, y_val))"
   ]
  },
  {
   "cell_type": "code",
   "execution_count": null,
   "metadata": {
    "colab": {
     "base_uri": "https://localhost:8080/",
     "height": 857
    },
    "id": "NIWr1XgJRZ_A",
    "outputId": "9ad82d0a-a8d0-40fa-9978-e3e52bff47e1"
   },
   "outputs": [
    {
     "name": "stdout",
     "output_type": "stream",
     "text": [
      "Epoch 1/25\n",
      "282/282 [==============================] - 3s 11ms/step - loss: 0.2989 - accuracy: 0.8781 - val_loss: 0.2964 - val_accuracy: 0.8803\n",
      "Epoch 2/25\n",
      "282/282 [==============================] - 3s 10ms/step - loss: 0.2879 - accuracy: 0.8835 - val_loss: 0.2833 - val_accuracy: 0.8855\n",
      "Epoch 3/25\n",
      "282/282 [==============================] - 3s 11ms/step - loss: 0.2895 - accuracy: 0.8845 - val_loss: 0.2960 - val_accuracy: 0.8827\n",
      "Epoch 4/25\n",
      "282/282 [==============================] - 3s 11ms/step - loss: 0.2882 - accuracy: 0.8827 - val_loss: 0.2944 - val_accuracy: 0.8828\n",
      "Epoch 5/25\n",
      "282/282 [==============================] - 3s 11ms/step - loss: 0.2799 - accuracy: 0.8860 - val_loss: 0.2854 - val_accuracy: 0.8832\n",
      "Epoch 6/25\n",
      "282/282 [==============================] - 3s 11ms/step - loss: 0.2708 - accuracy: 0.8895 - val_loss: 0.2932 - val_accuracy: 0.8788\n",
      "Epoch 7/25\n",
      "282/282 [==============================] - 3s 11ms/step - loss: 0.2642 - accuracy: 0.8926 - val_loss: 0.3033 - val_accuracy: 0.8787\n",
      "Epoch 8/25\n",
      "282/282 [==============================] - 3s 11ms/step - loss: 0.2682 - accuracy: 0.8908 - val_loss: 0.2946 - val_accuracy: 0.8805\n",
      "Epoch 9/25\n",
      "282/282 [==============================] - 3s 11ms/step - loss: 0.2639 - accuracy: 0.8910 - val_loss: 0.3181 - val_accuracy: 0.8739\n",
      "Epoch 10/25\n",
      "282/282 [==============================] - 3s 11ms/step - loss: 0.2654 - accuracy: 0.8927 - val_loss: 0.2829 - val_accuracy: 0.8885\n",
      "Epoch 11/25\n",
      "282/282 [==============================] - 3s 11ms/step - loss: 0.2547 - accuracy: 0.8950 - val_loss: 0.3356 - val_accuracy: 0.8644\n",
      "Epoch 12/25\n",
      "282/282 [==============================] - 3s 11ms/step - loss: 0.2561 - accuracy: 0.8946 - val_loss: 0.2890 - val_accuracy: 0.8869\n",
      "Epoch 13/25\n",
      "282/282 [==============================] - 3s 11ms/step - loss: 0.2491 - accuracy: 0.9001 - val_loss: 0.2763 - val_accuracy: 0.8917\n",
      "Epoch 14/25\n",
      "282/282 [==============================] - 3s 11ms/step - loss: 0.2454 - accuracy: 0.9016 - val_loss: 0.2804 - val_accuracy: 0.8917\n",
      "Epoch 15/25\n",
      "282/282 [==============================] - 3s 11ms/step - loss: 0.2428 - accuracy: 0.9014 - val_loss: 0.2863 - val_accuracy: 0.8887\n",
      "Epoch 16/25\n",
      "282/282 [==============================] - 3s 11ms/step - loss: 0.2408 - accuracy: 0.9007 - val_loss: 0.2788 - val_accuracy: 0.8913\n",
      "Epoch 17/25\n",
      "282/282 [==============================] - 3s 11ms/step - loss: 0.2325 - accuracy: 0.9050 - val_loss: 0.3407 - val_accuracy: 0.8722\n",
      "Epoch 18/25\n",
      "282/282 [==============================] - 3s 11ms/step - loss: 0.2304 - accuracy: 0.9053 - val_loss: 0.2785 - val_accuracy: 0.8931\n",
      "Epoch 19/25\n",
      "282/282 [==============================] - 3s 11ms/step - loss: 0.2226 - accuracy: 0.9091 - val_loss: 0.2867 - val_accuracy: 0.8899\n",
      "Epoch 20/25\n",
      "282/282 [==============================] - 3s 11ms/step - loss: 0.2260 - accuracy: 0.9071 - val_loss: 0.2743 - val_accuracy: 0.8932\n",
      "Epoch 21/25\n",
      "282/282 [==============================] - 3s 11ms/step - loss: 0.2200 - accuracy: 0.9117 - val_loss: 0.2902 - val_accuracy: 0.8866\n",
      "Epoch 22/25\n",
      "282/282 [==============================] - 3s 11ms/step - loss: 0.2206 - accuracy: 0.9107 - val_loss: 0.3100 - val_accuracy: 0.8843\n",
      "Epoch 23/25\n",
      "282/282 [==============================] - 3s 11ms/step - loss: 0.2174 - accuracy: 0.9119 - val_loss: 0.2972 - val_accuracy: 0.8861\n",
      "Epoch 24/25\n",
      "282/282 [==============================] - 3s 11ms/step - loss: 0.2081 - accuracy: 0.9150 - val_loss: 0.2953 - val_accuracy: 0.8883\n",
      "Epoch 25/25\n",
      "282/282 [==============================] - 3s 11ms/step - loss: 0.2051 - accuracy: 0.9162 - val_loss: 0.2896 - val_accuracy: 0.8906\n"
     ]
    }
   ],
   "source": [
    "history = model.fit(x_train, y_train, epochs= 25, batch_size=128, validation_data=(x_val, y_val))"
   ]
  },
  {
   "cell_type": "code",
   "execution_count": null,
   "metadata": {
    "colab": {
     "base_uri": "https://localhost:8080/",
     "height": 353
    },
    "id": "m34nYCYZYYuo",
    "outputId": "155ea42f-0164-4d6c-aea5-d3d913af044c"
   },
   "outputs": [
    {
     "name": "stdout",
     "output_type": "stream",
     "text": [
      "Epoch 1/10\n",
      "282/282 [==============================] - 5s 16ms/step - loss: 0.1558 - accuracy: 0.9372 - val_loss: 0.3340 - val_accuracy: 0.8850\n",
      "Epoch 2/10\n",
      "282/282 [==============================] - 5s 16ms/step - loss: 0.1585 - accuracy: 0.9371 - val_loss: 0.3482 - val_accuracy: 0.8791\n",
      "Epoch 3/10\n",
      "282/282 [==============================] - 5s 16ms/step - loss: 0.1439 - accuracy: 0.9432 - val_loss: 0.3105 - val_accuracy: 0.8884\n",
      "Epoch 4/10\n",
      "282/282 [==============================] - 5s 16ms/step - loss: 0.1449 - accuracy: 0.9426 - val_loss: 0.3977 - val_accuracy: 0.8627\n",
      "Epoch 5/10\n",
      "282/282 [==============================] - 5s 16ms/step - loss: 0.1446 - accuracy: 0.9420 - val_loss: 0.3349 - val_accuracy: 0.8912\n",
      "Epoch 6/10\n",
      "282/282 [==============================] - 5s 16ms/step - loss: 0.1233 - accuracy: 0.9510 - val_loss: 0.3352 - val_accuracy: 0.8870\n",
      "Epoch 7/10\n",
      "282/282 [==============================] - 5s 16ms/step - loss: 0.1211 - accuracy: 0.9521 - val_loss: 0.3512 - val_accuracy: 0.8848\n",
      "Epoch 8/10\n",
      "282/282 [==============================] - 5s 16ms/step - loss: 0.1196 - accuracy: 0.9512 - val_loss: 0.3461 - val_accuracy: 0.8905\n",
      "Epoch 9/10\n",
      "282/282 [==============================] - 5s 16ms/step - loss: 0.1091 - accuracy: 0.9575 - val_loss: 0.3514 - val_accuracy: 0.8892\n",
      "Epoch 10/10\n",
      "282/282 [==============================] - 4s 16ms/step - loss: 0.1083 - accuracy: 0.9585 - val_loss: 0.3767 - val_accuracy: 0.8885\n"
     ]
    }
   ],
   "source": [
    "history = model.fit(x_train, y_train, epochs= 10, batch_size=128, validation_data=(x_val, y_val))"
   ]
  },
  {
   "cell_type": "code",
   "execution_count": null,
   "metadata": {
    "colab": {
     "base_uri": "https://localhost:8080/",
     "height": 521
    },
    "id": "eNnv3pCETsfb",
    "outputId": "eaf35a25-955f-4326-b185-0af2586c834c"
   },
   "outputs": [
    {
     "name": "stdout",
     "output_type": "stream",
     "text": [
      "Epoch 1/15\n",
      "141/141 [==============================] - 3s 24ms/step - loss: 0.1284 - accuracy: 0.9487 - val_loss: 0.3866 - val_accuracy: 0.8809\n",
      "Epoch 2/15\n",
      "141/141 [==============================] - 3s 24ms/step - loss: 0.1213 - accuracy: 0.9519 - val_loss: 0.3483 - val_accuracy: 0.8936\n",
      "Epoch 3/15\n",
      "141/141 [==============================] - 3s 24ms/step - loss: 0.1165 - accuracy: 0.9546 - val_loss: 0.3596 - val_accuracy: 0.8920\n",
      "Epoch 4/15\n",
      "141/141 [==============================] - 3s 24ms/step - loss: 0.1109 - accuracy: 0.9559 - val_loss: 0.3710 - val_accuracy: 0.8932\n",
      "Epoch 5/15\n",
      "141/141 [==============================] - 3s 24ms/step - loss: 0.1107 - accuracy: 0.9551 - val_loss: 0.3796 - val_accuracy: 0.8914\n",
      "Epoch 6/15\n",
      "141/141 [==============================] - 3s 24ms/step - loss: 0.1119 - accuracy: 0.9545 - val_loss: 0.3779 - val_accuracy: 0.8889\n",
      "Epoch 7/15\n",
      "141/141 [==============================] - 3s 24ms/step - loss: 0.1147 - accuracy: 0.9536 - val_loss: 0.3871 - val_accuracy: 0.8898\n",
      "Epoch 8/15\n",
      "141/141 [==============================] - 3s 24ms/step - loss: 0.1108 - accuracy: 0.9553 - val_loss: 0.4084 - val_accuracy: 0.8798\n",
      "Epoch 9/15\n",
      "141/141 [==============================] - 3s 24ms/step - loss: 0.1167 - accuracy: 0.9525 - val_loss: 0.3680 - val_accuracy: 0.8913\n",
      "Epoch 10/15\n",
      "141/141 [==============================] - 3s 24ms/step - loss: 0.1061 - accuracy: 0.9573 - val_loss: 0.3702 - val_accuracy: 0.8935\n",
      "Epoch 11/15\n",
      "141/141 [==============================] - 3s 24ms/step - loss: 0.1106 - accuracy: 0.9557 - val_loss: 0.3899 - val_accuracy: 0.8911\n",
      "Epoch 12/15\n",
      "141/141 [==============================] - 3s 24ms/step - loss: 0.1061 - accuracy: 0.9569 - val_loss: 0.4056 - val_accuracy: 0.8909\n",
      "Epoch 13/15\n",
      "141/141 [==============================] - 3s 24ms/step - loss: 0.1117 - accuracy: 0.9559 - val_loss: 0.3913 - val_accuracy: 0.8928\n",
      "Epoch 14/15\n",
      "141/141 [==============================] - 3s 24ms/step - loss: 0.1066 - accuracy: 0.9569 - val_loss: 0.3954 - val_accuracy: 0.8917\n",
      "Epoch 15/15\n",
      "141/141 [==============================] - 3s 24ms/step - loss: 0.1083 - accuracy: 0.9566 - val_loss: 0.3913 - val_accuracy: 0.8895\n"
     ]
    }
   ],
   "source": [
    "history = model.fit(x_train, y_train, epochs= 15, batch_size=256, validation_data=(x_val, y_val))"
   ]
  },
  {
   "cell_type": "code",
   "execution_count": null,
   "metadata": {
    "id": "bfnDyr1WRZ7e"
   },
   "outputs": [],
   "source": [
    "test_loss, test_acc = model.evaluate(x_test, y_test, verbose=2) #report performance metrics #0.8670"
   ]
  },
  {
   "cell_type": "code",
   "execution_count": null,
   "metadata": {
    "colab": {
     "base_uri": "https://localhost:8080/",
     "height": 573
    },
    "id": "1le7mxg7RZvy",
    "outputId": "36565589-28fa-413b-f1d9-db70e37bc4c1"
   },
   "outputs": [
    {
     "data": {
      "image/png": "[encoded data removed]",
      "text/plain": [
       "<Figure size 432x288 with 1 Axes>"
      ]
     },
     "metadata": {
      "needs_background": "light",
      "tags": []
     },
     "output_type": "display_data"
    },
    {
     "data": {
      "image/png": "[encoded data removed]",
      "text/plain": [
       "<Figure size 432x288 with 1 Axes>"
      ]
     },
     "metadata": {
      "needs_background": "light",
      "tags": []
     },
     "output_type": "display_data"
    }
   ],
   "source": [
    "#Visualize the models accuracy\n",
    "plt.plot(history.history['accuracy'])\n",
    "plt.plot(history.history['val_accuracy'])\n",
    "plt.title('Model Accuracy')\n",
    "plt.ylabel('Accuracy')\n",
    "plt.xlabel('Epoch')\n",
    "plt.legend(['Training', 'Validation'], loc='lower right')\n",
    "plt.grid()\n",
    "plt.show()\n",
    "#Visualize the models loss\n",
    "plt.plot(history.history['loss'])\n",
    "plt.plot(history.history['val_loss'])\n",
    "plt.title('Model Loss')\n",
    "plt.ylabel('Loss')\n",
    "plt.xlabel('Epoch')\n",
    "plt.legend(['Training', 'Validation'], loc='upper right')\n",
    "plt.grid()\n",
    "plt.show()"
   ]
  },
  {
   "cell_type": "code",
   "execution_count": null,
   "metadata": {
    "id": "xPyoiIQKm4Zk"
   },
   "outputs": [],
   "source": [
    "def inception_model():\n",
    "    # Input \n",
    "    input_shape = Input(shape = (28,28,1))\n",
    "    \n",
    "    # Stage 1: convolutional layers and max pooling layers\n",
    "    x = Conv2D(32, (3,3), padding='same', strides=(2, 2), activation='relu')(input_shape)\n",
    "    x = BatchNormalization()(x)\n",
    "    x = MaxPooling2D((2,2), padding='same', strides=(2, 2))(x)\n",
    "    x = Conv2D(32, (1,1), padding='same', strides=(1, 1), activation='relu')(input_shape)\n",
    "    x = BatchNormalization()(x)\n",
    "    x = Conv2D(96, (3,3), padding='same', strides=(1, 1), activation='relu')(input_shape)\n",
    "    x = BatchNormalization()(x)\n",
    "    x = MaxPooling2D((2,2), padding='same', strides=(2, 2))(x)\n",
    "    \n",
    "    # Stage 2: Two inception blocks and average pooling\n",
    "    x = inception_block(x, 64, 96, 128, 16, 32, 32)\n",
    "    x = inception_block(x, 128, 128, 192, 32, 96, 64)\n",
    "    x = AveragePooling2D((3, 3), padding='same', strides=2)(x)\n",
    "    x = Flatten()(x)\n",
    "    \n",
    "    # Stage 3: Fully connected layer with 0.5 deopout and output layer\n",
    "    x = Dense(1024, activation='relu')(x)\n",
    "    x = Dropout(0.5)(x)\n",
    "    x = Dense(5)(x)\n",
    "    output = Activation('softmax')(x)\n",
    "    model = Model([input_shape],output)\n",
    "    \n",
    "    model.compile(optimizer='adam',loss='categorical_crossentropy',metrics=['accuracy'])\n",
    "    \n",
    "    return model"
   ]
  },
  {
   "cell_type": "code",
   "execution_count": null,
   "metadata": {
    "id": "75Hf3frStjP7"
   },
   "outputs": [],
   "source": [
    "def residual_model():\n",
    "    input_shape = Input(shape = (28,28,1))\n",
    "    \n",
    "    x = Conv2D(32, (3, 3), padding='same')(input_shape)\n",
    "    x = BatchNormalization()(x)\n",
    "    x = Activation('relu')(x)\n",
    "    x = MaxPooling2D((2, 2), padding='same')(x)\n",
    "\n",
    "    x = Conv2D(64, (3, 3), padding='same')(input_shape)\n",
    "    x = BatchNormalization()(x)\n",
    "    x = Activation('relu')(x)\n",
    "    x = MaxPooling2D((2, 2), padding='same')(x)\n",
    "\n",
    "    x = Conv2D(128, (3, 3), padding='same')(input_shape)\n",
    "    x = BatchNormalization()(x)\n",
    "    x = Activation('relu')(x)\n",
    "    x = MaxPooling2D((2, 2), padding='same')(x)\n",
    "\n",
    "    x = residual_block(x, 32)\n",
    "    x = residual_block(x, 64)\n",
    "    \n",
    "\n",
    "    x = AveragePooling2D((3,3), padding='same')(x)    \n",
    "    \n",
    "    \n",
    "    x = Flatten()(x)\n",
    "    \n",
    "    x = Dense(1024, activation='relu')(x)\n",
    "    x = Dropout(0.5)(x)\n",
    "    x = Dense(5)(x)\n",
    "    \n",
    "    output = Activation('softmax')(x)\n",
    "    \n",
    "    model = Model([input_shape],output)\n",
    "    \n",
    "    model.compile(optimizer='adam',loss='categorical_crossentropy',metrics=['accuracy'])\n",
    "    \n",
    "    return model"
   ]
  },
  {
   "cell_type": "code",
   "execution_count": null,
   "metadata": {
    "id": "frFf44N5tkoR"
   },
   "outputs": [],
   "source": []
  },
  {
   "cell_type": "markdown",
   "metadata": {
    "id": "TZ7R9HNDVY2J"
   },
   "source": [
    "#### Final step: using all of the training data"
   ]
  },
  {
   "cell_type": "code",
   "execution_count": null,
   "metadata": {
    "id": "_QMnu1SeVY2J"
   },
   "outputs": [],
   "source": [
    "x = x.astype('float32') / 255.0\n",
    "\n",
    "x = x.reshape((60000, 28, 28, 1))\n",
    "\n",
    "y = to_categorical(y)"
   ]
  },
  {
   "cell_type": "code",
   "execution_count": null,
   "metadata": {
    "id": "ZGYKX5JJ9n_p"
   },
   "outputs": [],
   "source": [
    "x = x.reshape((60000, 28, 28, 1))\n",
    "\n",
    "\n",
    "x = x.astype('float32')\n",
    "\n",
    "\n",
    "x = (x-mean)/(std+1e-9)\n",
    "\n"
   ]
  },
  {
   "cell_type": "code",
   "execution_count": null,
   "metadata": {
    "id": "zoYaLl2m95ph"
   },
   "outputs": [],
   "source": [
    "y = to_categorical(y)"
   ]
  },
  {
   "cell_type": "code",
   "execution_count": null,
   "metadata": {
    "colab": {
     "base_uri": "https://localhost:8080/",
     "height": 34
    },
    "id": "tNVDLOlhl_E0",
    "outputId": "6738c44b-5663-401d-a43c-7bf9c3cff5c6"
   },
   "outputs": [
    {
     "data": {
      "text/plain": [
       "(36000, 5)"
      ]
     },
     "execution_count": 165,
     "metadata": {
      "tags": []
     },
     "output_type": "execute_result"
    }
   ],
   "source": [
    "y_train.shape"
   ]
  },
  {
   "cell_type": "code",
   "execution_count": null,
   "metadata": {
    "colab": {
     "base_uri": "https://localhost:8080/",
     "height": 34
    },
    "id": "ptI1zxH0l-2P",
    "outputId": "80e3b008-34cf-4cb7-e096-d1afd467d071"
   },
   "outputs": [
    {
     "data": {
      "text/plain": [
       "(60000, 5)"
      ]
     },
     "execution_count": 166,
     "metadata": {
      "tags": []
     },
     "output_type": "execute_result"
    }
   ],
   "source": [
    "y.shape"
   ]
  },
  {
   "cell_type": "code",
   "execution_count": null,
   "metadata": {
    "colab": {
     "base_uri": "https://localhost:8080/",
     "height": 706
    },
    "id": "AcQs1Kf_VY2L",
    "outputId": "8ea3c417-65b2-471b-be95-314949f49984"
   },
   "outputs": [
    {
     "name": "stdout",
     "output_type": "stream",
     "text": [
      "Epoch 1/20\n",
      "469/469 [==============================] - 4s 9ms/step - loss: 0.5821 - accuracy: 0.7724\n",
      "Epoch 2/20\n",
      "469/469 [==============================] - 4s 9ms/step - loss: 0.4096 - accuracy: 0.8338\n",
      "Epoch 3/20\n",
      "469/469 [==============================] - 4s 9ms/step - loss: 0.3731 - accuracy: 0.8494\n",
      "Epoch 4/20\n",
      "469/469 [==============================] - 4s 9ms/step - loss: 0.3442 - accuracy: 0.8602\n",
      "Epoch 5/20\n",
      "469/469 [==============================] - 4s 9ms/step - loss: 0.3266 - accuracy: 0.8673\n",
      "Epoch 6/20\n",
      "469/469 [==============================] - 4s 9ms/step - loss: 0.3069 - accuracy: 0.8748\n",
      "Epoch 7/20\n",
      "469/469 [==============================] - 4s 9ms/step - loss: 0.2957 - accuracy: 0.8788\n",
      "Epoch 8/20\n",
      "469/469 [==============================] - 4s 9ms/step - loss: 0.2813 - accuracy: 0.8858\n",
      "Epoch 9/20\n",
      "469/469 [==============================] - 4s 9ms/step - loss: 0.2736 - accuracy: 0.8886\n",
      "Epoch 10/20\n",
      "469/469 [==============================] - 4s 9ms/step - loss: 0.2621 - accuracy: 0.8928\n",
      "Epoch 11/20\n",
      "469/469 [==============================] - 4s 9ms/step - loss: 0.2491 - accuracy: 0.8997\n",
      "Epoch 12/20\n",
      "469/469 [==============================] - 4s 9ms/step - loss: 0.2397 - accuracy: 0.9024\n",
      "Epoch 13/20\n",
      "469/469 [==============================] - 4s 9ms/step - loss: 0.2348 - accuracy: 0.9043\n",
      "Epoch 14/20\n",
      "469/469 [==============================] - 4s 9ms/step - loss: 0.2229 - accuracy: 0.9094\n",
      "Epoch 15/20\n",
      "469/469 [==============================] - 4s 9ms/step - loss: 0.2207 - accuracy: 0.9099\n",
      "Epoch 16/20\n",
      "469/469 [==============================] - 4s 9ms/step - loss: 0.1989 - accuracy: 0.9187\n",
      "Epoch 17/20\n",
      "469/469 [==============================] - 4s 9ms/step - loss: 0.1994 - accuracy: 0.9204\n",
      "Epoch 18/20\n",
      "469/469 [==============================] - 4s 9ms/step - loss: 0.1898 - accuracy: 0.9244\n",
      "Epoch 19/20\n",
      "469/469 [==============================] - 4s 9ms/step - loss: 0.1828 - accuracy: 0.9267\n",
      "Epoch 20/20\n",
      "469/469 [==============================] - 4s 9ms/step - loss: 0.1767 - accuracy: 0.9288\n"
     ]
    },
    {
     "data": {
      "text/plain": [
       "<tensorflow.python.keras.callbacks.History at 0x7f5faa2fa128>"
      ]
     },
     "execution_count": 70,
     "metadata": {
      "tags": []
     },
     "output_type": "execute_result"
    }
   ],
   "source": [
    "model = residual_model()\n",
    "\n",
    "model.fit(x, y, epochs= 20 , batch_size=128)"
   ]
  },
  {
   "cell_type": "code",
   "execution_count": null,
   "metadata": {
    "colab": {
     "base_uri": "https://localhost:8080/",
     "height": 538
    },
    "id": "Yd1iQVTWynv7",
    "outputId": "422cb3f0-c208-4d19-cf73-c508cd1f1520"
   },
   "outputs": [
    {
     "name": "stdout",
     "output_type": "stream",
     "text": [
      "Epoch 1/15\n",
      "235/235 [==============================] - 3s 15ms/step - loss: 0.1376 - accuracy: 0.9459\n",
      "Epoch 2/15\n",
      "235/235 [==============================] - 3s 15ms/step - loss: 0.1248 - accuracy: 0.9502\n",
      "Epoch 3/15\n",
      "235/235 [==============================] - 3s 15ms/step - loss: 0.1166 - accuracy: 0.9538\n",
      "Epoch 4/15\n",
      "235/235 [==============================] - 3s 15ms/step - loss: 0.1150 - accuracy: 0.9547\n",
      "Epoch 5/15\n",
      "235/235 [==============================] - 3s 15ms/step - loss: 0.1095 - accuracy: 0.9570\n",
      "Epoch 6/15\n",
      "235/235 [==============================] - 3s 15ms/step - loss: 0.1092 - accuracy: 0.9561\n",
      "Epoch 7/15\n",
      "235/235 [==============================] - 3s 15ms/step - loss: 0.1031 - accuracy: 0.9596\n",
      "Epoch 8/15\n",
      "235/235 [==============================] - 3s 15ms/step - loss: 0.0998 - accuracy: 0.9606\n",
      "Epoch 9/15\n",
      "235/235 [==============================] - 3s 15ms/step - loss: 0.1017 - accuracy: 0.9599\n",
      "Epoch 10/15\n",
      "235/235 [==============================] - 3s 15ms/step - loss: 0.0944 - accuracy: 0.9627\n",
      "Epoch 11/15\n",
      "235/235 [==============================] - 3s 15ms/step - loss: 0.0971 - accuracy: 0.9622\n",
      "Epoch 12/15\n",
      "235/235 [==============================] - 3s 15ms/step - loss: 0.0846 - accuracy: 0.9671\n",
      "Epoch 13/15\n",
      "235/235 [==============================] - 3s 15ms/step - loss: 0.0853 - accuracy: 0.9660\n",
      "Epoch 14/15\n",
      "235/235 [==============================] - 3s 15ms/step - loss: 0.0814 - accuracy: 0.9679\n",
      "Epoch 15/15\n",
      "235/235 [==============================] - 3s 15ms/step - loss: 0.0846 - accuracy: 0.9668\n"
     ]
    },
    {
     "data": {
      "text/plain": [
       "<tensorflow.python.keras.callbacks.History at 0x7f5fad0aa860>"
      ]
     },
     "execution_count": 71,
     "metadata": {
      "tags": []
     },
     "output_type": "execute_result"
    }
   ],
   "source": [
    "model.fit(x, y, epochs= 15 , batch_size=256)"
   ]
  },
  {
   "cell_type": "code",
   "execution_count": null,
   "metadata": {
    "colab": {
     "base_uri": "https://localhost:8080/",
     "height": 370
    },
    "id": "kxN-2EwuynkT",
    "outputId": "7e7027c2-0d26-4185-c722-4d9b0994f9ef"
   },
   "outputs": [
    {
     "name": "stdout",
     "output_type": "stream",
     "text": [
      "Epoch 1/10\n",
      "118/118 [==============================] - 3s 25ms/step - loss: 0.0515 - accuracy: 0.9809\n",
      "Epoch 2/10\n",
      "118/118 [==============================] - 3s 25ms/step - loss: 0.0415 - accuracy: 0.9852\n",
      "Epoch 3/10\n",
      "118/118 [==============================] - 3s 25ms/step - loss: 0.0373 - accuracy: 0.9867\n",
      "Epoch 4/10\n",
      "118/118 [==============================] - 3s 24ms/step - loss: 0.0371 - accuracy: 0.9861\n",
      "Epoch 5/10\n",
      "118/118 [==============================] - 3s 25ms/step - loss: 0.0368 - accuracy: 0.9865\n",
      "Epoch 6/10\n",
      "118/118 [==============================] - 3s 25ms/step - loss: 0.0383 - accuracy: 0.9856\n",
      "Epoch 7/10\n",
      "118/118 [==============================] - 3s 25ms/step - loss: 0.0409 - accuracy: 0.9847\n",
      "Epoch 8/10\n",
      "118/118 [==============================] - 3s 25ms/step - loss: 0.0364 - accuracy: 0.9868\n",
      "Epoch 9/10\n",
      "118/118 [==============================] - 3s 25ms/step - loss: 0.0335 - accuracy: 0.9876\n",
      "Epoch 10/10\n",
      "118/118 [==============================] - 3s 24ms/step - loss: 0.0331 - accuracy: 0.9882\n"
     ]
    },
    {
     "data": {
      "text/plain": [
       "<tensorflow.python.keras.callbacks.History at 0x7f5fad04bd68>"
      ]
     },
     "execution_count": 72,
     "metadata": {
      "tags": []
     },
     "output_type": "execute_result"
    }
   ],
   "source": [
    "model.fit(x, y, epochs= 10 , batch_size=512)"
   ]
  },
  {
   "cell_type": "code",
   "execution_count": null,
   "metadata": {
    "id": "6Zcl1KUpVY2O"
   },
   "outputs": [],
   "source": [
    "### Writing to the test csv file\n",
    "kaggle_test = pd.read_csv('testX.csv')\n",
    "test_data = kaggle_test[kaggle_test.columns[1:785]].values\n",
    "\n",
    "#test_data = test_data.astype('float32') / 255.0\n",
    "test_data = test_data.reshape((10000, 28, 28, 1))\n",
    "test_data = test_data.astype('float32')\n",
    "test_data = (test_data-mean)/(std+1e-9)\n",
    "\n",
    "#kaggle_predictions = model.predict_classes(test_data)\n",
    "kaggle_predictions = np.argmax(model.predict(test_data),axis=1)\n",
    "kaggle_test['Label'] = kaggle_predictions\n",
    "final_result = kaggle_test.drop(kaggle_test.columns[1:785],axis=1)\n",
    "final_result.to_csv('Results_residual_8_4.csv', index=False)"
   ]
  },
  {
   "cell_type": "code",
   "execution_count": null,
   "metadata": {
    "id": "edW1yEOaGzEv"
   },
   "outputs": [],
   "source": []
  }
 ],
 "metadata": {
  "accelerator": "GPU",
  "colab": {
   "collapsed_sections": [
    "gL8fIklqVY0n",
    "0sz3rZu6VY1P",
    "KRvch8pbVY1j"
   ],
   "name": "ECE657A-A3-Q2-inception4.ipynb",
   "provenance": []
  },
  "kernelspec": {
   "display_name": "Python 3",
   "language": "python",
   "name": "python3"
  },
  "language_info": {
   "codemirror_mode": {
    "name": "ipython",
    "version": 3
   },
   "file_extension": ".py",
   "mimetype": "text/x-python",
   "name": "python",
   "nbconvert_exporter": "python",
   "pygments_lexer": "ipython3",
   "version": "3.7.3"
  }
 },
 "nbformat": 4,
 "nbformat_minor": 1
}
